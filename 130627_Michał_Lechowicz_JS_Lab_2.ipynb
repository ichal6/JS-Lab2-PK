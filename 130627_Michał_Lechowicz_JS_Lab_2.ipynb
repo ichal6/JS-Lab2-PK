{
 "cells": [
  {
   "cell_type": "markdown",
   "metadata": {
    "deletable": false,
    "editable": false,
    "nbgrader": {
     "cell_type": "markdown",
     "checksum": "f47b80ecdd491d5e5bbc9ffb30a83153",
     "grade": false,
     "grade_id": "cell-4b34e804a6520a5c",
     "locked": true,
     "schema_version": 3,
     "solution": false
    }
   },
   "source": [
    "# Języki symboliczne - rok akademicki 2021/2022\n",
    "\n",
    "Przed rozpoczęciem pracy z notatnikiem zmień jego nazwę zgodnie z wzorem: `NrAlbumu_Nazwisko_Imie_PoprzedniaNazwa`\n",
    "\n",
    "Przed wysłaniem notatnika upewnij się, że rozwiązałeś wszystkie zadania/ćwiczenia, w szczególności, że uzupełniłeś wszystkie pola `YOUR CODE HERE` oraz `YOUR ANSWER HERE`."
   ]
  },
  {
   "cell_type": "markdown",
   "metadata": {
    "deletable": false,
    "editable": false,
    "nbgrader": {
     "cell_type": "markdown",
     "checksum": "7f9d3b910157942001d0c61371f70956",
     "grade": false,
     "grade_id": "cell-ec984842bc599089",
     "locked": true,
     "schema_version": 3,
     "solution": false
    }
   },
   "source": [
    "# Temat_2a:\n",
    "# Listy. Odwzorowania listowe. Kopiowanie płytkie i głębokie.\n",
    "Zapoznaj się z treścią niniejszego notatnika czytając i wykonując go komórka po komórce. Wykonaj napotkane zadania/ćwiczenia.\n",
    "\n",
    "## Typ danych `list` (lista)\n",
    "\n",
    "- Listy należą do typów sekwencyjnych (jak napisy, krotki).\n",
    "- Elementy listy oddzielone są przecinkami, umieszczone w kwadratowych nawiasach.\n",
    "- Listy są indeksowane liczbami całkowitymi zaczynając od zera.\n",
    "- Dostęp do elementów listy odbywa sie w taki sam sposób jak w napisach czy krotkach\n",
    "- Elementy listy nie muszą być tego samego typu.\n",
    "- Listy można modyfikować (napisy, krotki nie).\n",
    "\n",
    "Listy mogą być tworzone na kilka sposobów:\n",
    "- Użycie pary nawiasów kwadratowych (pusta lista): `[]`\n",
    "- Za pomocą nawiasów kwadratowych, elementy oddzielone przecinkami: `[a]` lub `[a, b, c]`\n",
    "- Wykorzystanie odwzorowań listowych: `[x for x in iterable]`\n",
    "- Za pomocą konstruktora typu (funkcji): `list()` lub `list(iterable)`\n",
    "\n",
    "Lista może zawierać obiekty dowolnego typu."
   ]
  },
  {
   "cell_type": "code",
   "execution_count": null,
   "metadata": {},
   "outputs": [],
   "source": [
    "l = [1, 2, '3']\n",
    "print(l)\n",
    "type(l)"
   ]
  },
  {
   "cell_type": "markdown",
   "metadata": {
    "deletable": false,
    "editable": false,
    "nbgrader": {
     "cell_type": "markdown",
     "checksum": "f039cfc7ba8c27e76f070777ed9612aa",
     "grade": false,
     "grade_id": "cell-f1d6950901ddac86",
     "locked": true,
     "schema_version": 3,
     "solution": false
    }
   },
   "source": [
    "Długość listy."
   ]
  },
  {
   "cell_type": "code",
   "execution_count": null,
   "metadata": {},
   "outputs": [],
   "source": [
    "len(l)"
   ]
  },
  {
   "cell_type": "markdown",
   "metadata": {
    "deletable": false,
    "editable": false,
    "nbgrader": {
     "cell_type": "markdown",
     "checksum": "97120a3cdca16292b5a13f8bfb02c1a6",
     "grade": false,
     "grade_id": "cell-7b156f8b055ac60a",
     "locked": true,
     "schema_version": 3,
     "solution": false
    }
   },
   "source": [
    "Tworzenie pustej listy."
   ]
  },
  {
   "cell_type": "code",
   "execution_count": null,
   "metadata": {},
   "outputs": [],
   "source": [
    "t1 = []\n",
    "# lub\n",
    "t2 = list()\n",
    "print(t1, t2)\n",
    "type(t1), type(t2)"
   ]
  },
  {
   "cell_type": "markdown",
   "metadata": {
    "deletable": false,
    "editable": false,
    "nbgrader": {
     "cell_type": "markdown",
     "checksum": "4a4eb1cd3332eba6a91b56114adfefee",
     "grade": false,
     "grade_id": "cell-c28c9ee2795fc779",
     "locked": true,
     "schema_version": 3,
     "solution": false
    }
   },
   "source": [
    "#### Dostęp do poszczególnych elementów, modyfikacja i plasterkowanie (slicing) list\n",
    "Z listy możemy wybierać pojedyńcze elementy lub fragment listy. Aby wybrać dowolny element z listy należy użyć metody wbudowanej  `__getitem__` lub prościej operatora `[]`.\n",
    "\n",
    "Podanie indeksu większego niż liczba elementów kończy się wyrzyceniem błędu. Możemy numerować pozycje od końca, wstawiając liczby ujemne. \n",
    "\n",
    "Aby wybrać fragment listy należy użyć konstrukcji `[s:e:k]`, gdzie `s` to pozycja pierwszego elementu który chcemy wybrać, `e` to pozycja pierwszego elementu którego nie chcemy wybrać, `k` to krok z jakim wybieramy elementy."
   ]
  },
  {
   "cell_type": "code",
   "execution_count": null,
   "metadata": {},
   "outputs": [],
   "source": [
    "l = [1, 2, '3']\n",
    "print(l.__getitem__(0))   # numeracja od 0\n",
    "print(l[2])"
   ]
  },
  {
   "cell_type": "code",
   "execution_count": null,
   "metadata": {},
   "outputs": [],
   "source": [
    "l[-1]   # odczyt elementu o indeksie ujemnym - liczenie wstecz od końca listy"
   ]
  },
  {
   "cell_type": "code",
   "execution_count": null,
   "metadata": {},
   "outputs": [],
   "source": [
    "l[3]   # odczyt elementu który nie istnieje - błąd!"
   ]
  },
  {
   "cell_type": "markdown",
   "metadata": {
    "deletable": false,
    "editable": false,
    "nbgrader": {
     "cell_type": "markdown",
     "checksum": "d47d0ababa12ee2564553130c7c888dc",
     "grade": false,
     "grade_id": "cell-04a7bda6ca69e4a8",
     "locked": true,
     "schema_version": 3,
     "solution": false
    }
   },
   "source": [
    "Plasterkowanie, jak w napisach."
   ]
  },
  {
   "cell_type": "code",
   "execution_count": null,
   "metadata": {},
   "outputs": [],
   "source": [
    "a = [1, 2, 3, 4, 5, 6]\n",
    "print('1)', a)\n",
    "print('2)', a[1:4])\n",
    "print('3)', a[:4])\n",
    "print('4)', a[3:])\n",
    "print('5)', a[2:5:2])\n",
    "\n",
    "a[1:3] = []   # zmiana długości listy\n",
    "print('6)', a)"
   ]
  },
  {
   "cell_type": "markdown",
   "metadata": {
    "deletable": false,
    "editable": false,
    "nbgrader": {
     "cell_type": "markdown",
     "checksum": "2f27e4072363cec984007c3948ac892d",
     "grade": false,
     "grade_id": "cell-e8ad3ee4a6b1990e",
     "locked": true,
     "schema_version": 3,
     "solution": false
    }
   },
   "source": [
    "Elementy listy można modyfikować."
   ]
  },
  {
   "cell_type": "code",
   "execution_count": null,
   "metadata": {},
   "outputs": [],
   "source": [
    "print(l)\n",
    "print(l[0])\n",
    "l[0] = 'nowe_0'\n",
    "print(l)"
   ]
  },
  {
   "cell_type": "markdown",
   "metadata": {
    "deletable": false,
    "editable": false,
    "nbgrader": {
     "cell_type": "markdown",
     "checksum": "cfe86f8746490c41409b9b2ef8347ec7",
     "grade": false,
     "grade_id": "cell-c6ff42b73cb10f30",
     "locked": true,
     "schema_version": 3,
     "solution": false
    }
   },
   "source": [
    "#### Listy zagnieżdżone.\n",
    "Lista wewnątrz innej listy. Dostęp do elementów listy zagnieżdżonej `[][]`."
   ]
  },
  {
   "cell_type": "code",
   "execution_count": null,
   "metadata": {},
   "outputs": [],
   "source": [
    "l1 = [1, 2, 3, ['a','b','c']]\n",
    "print(l1)\n",
    "print(len(l1))\n",
    "el = l1[3][1]   # dostęp do elementu o indeksie 1 w liście zagnieżdżonej\n",
    "print(el)"
   ]
  },
  {
   "cell_type": "markdown",
   "metadata": {
    "deletable": false,
    "editable": false,
    "nbgrader": {
     "cell_type": "markdown",
     "checksum": "3dc7148f9463233f51ee973f4f2c791d",
     "grade": false,
     "grade_id": "cell-dbf6e783298d09b1",
     "locked": true,
     "schema_version": 3,
     "solution": false
    }
   },
   "source": [
    "#### Przeglądanie elementów listy.\n",
    "Indeksowanie podczas przeglądania. Funkcja `enumerate`."
   ]
  },
  {
   "cell_type": "code",
   "execution_count": null,
   "metadata": {},
   "outputs": [],
   "source": [
    "for i in l1:\n",
    "    print(i)"
   ]
  },
  {
   "cell_type": "code",
   "execution_count": null,
   "metadata": {},
   "outputs": [],
   "source": [
    "for i in range(len(l1)):\n",
    "    print(i, l1[i])"
   ]
  },
  {
   "cell_type": "code",
   "execution_count": null,
   "metadata": {},
   "outputs": [],
   "source": [
    "for index, element in enumerate(l1):  # patrz notebook z lab_1.\n",
    "    print(index, element)"
   ]
  },
  {
   "cell_type": "markdown",
   "metadata": {
    "deletable": false,
    "editable": false,
    "nbgrader": {
     "cell_type": "markdown",
     "checksum": "e5fe9b0372d96bcea5eb6f7d7ab58319",
     "grade": false,
     "grade_id": "cell-4f42bd7616315992",
     "locked": true,
     "schema_version": 3,
     "solution": false
    }
   },
   "source": [
    "#### Operacje na listach: `+`, `*`."
   ]
  },
  {
   "cell_type": "code",
   "execution_count": null,
   "metadata": {},
   "outputs": [],
   "source": [
    "# listy tak jak napisy można dodawać (łączyć) i mnożyć przez liczbę (powielać)\n",
    "l1 = [1,2,3]\n",
    "l2 = ['a','b','c']\n",
    "print(l1+l2)\n",
    "print(l1*3)"
   ]
  },
  {
   "cell_type": "markdown",
   "metadata": {
    "deletable": false,
    "editable": false,
    "nbgrader": {
     "cell_type": "markdown",
     "checksum": "11a008a80c446a02bb998f1bf4843938",
     "grade": false,
     "grade_id": "cell-6838afd0889ee632",
     "locked": true,
     "schema_version": 3,
     "solution": false
    }
   },
   "source": [
    "#### Metody obiektu list.\n",
    "Metody dla list (sekwencji):\n",
    "https://docs.python.org/3/library/stdtypes.html#typesseq-mutable.\n",
    "https://docs.python.org/3/tutorial/datastructures.html\n",
    "\n",
    "Wybrane metody do użycia:\n",
    "- `append(x)` - Dodaje na koniec listy element x. Zwieksza rozmiar listy o 1.\n",
    "- `extend(l)` - Rozszerza liste o elementy listy `l`. Zwieksza rozmiar listy o `len(l)`.\n",
    "- `insert(i, x)` - Wstawia element x na pozycji i. Zwieksza rozmiar listy o 1. Zmienia indeksy poszczególnych elementów.\n",
    "- `remove(x)` - Usuwa pierwszy napotkany element listy, którego wartość jest równa x. Zmniejsza rozmiar listy o 1.\n",
    "- `pop(i)` - Usuwa element o podanym indeksie i i go zwraca. Argument i jest argumentem domyślnym, jesli nie zostanie podany przyjmuje indeks ostatniego elementu listy. Zmniejsza rozmiar o 1.\n",
    "- `index(x)` - Zwraca indeks pierwszego elementu listy, którego wartość jest równa x. Jeśli w liście nie ma takiego elementu, wyrzucany jest bład.\n",
    "- `count(x)` - Zwraca liczbę elementów listy, których wartość jest równa x.\n",
    "- `sort(*, key=None, reverse=False)` - Sortuje liste.\n",
    "- `reverse()` - Odwraca elementy listy.\n",
    "- `del` - Usuwa elementy lub fragmenty listy (`del s[i:j:k]`) (`del` może też być użyte do usuwania zmiennych)\n",
    "- `clear()`  - usuwa całą zawartość listy.\n",
    "\n",
    "__Uwaga!__ Wiekszość metod dla list modyfikuje argument(listę) i zwraca `None`."
   ]
  },
  {
   "cell_type": "code",
   "execution_count": null,
   "metadata": {},
   "outputs": [],
   "source": [
    "s = [1, 2, 3, 4, 5, 6]\n",
    "t = [8, 9, 10]\n",
    "print(s)\n",
    "\n",
    "s.append(7)  # dodanie na koniec\n",
    "print(s)\n",
    "s.extend(t)  # rozszerza listę o listę t\n",
    "print(s)\n",
    "s.insert(1, 111)  # wstawia na pozycji 1 liczbę 111\n",
    "print(s)\n",
    "s.remove(2)  # usuwa pierwszą napotkaną 2\n",
    "print(s)\n",
    "a = s.pop(1)  # usuwa element z pozycji 1 i go zwraca\n",
    "print(s, a,sep = '; ')\n",
    "del s[1:3]  # usuwa fragment listy\n",
    "print(s)\n",
    "s.clear()  # usuwa wszystkie elementy listy\n",
    "print(s)"
   ]
  },
  {
   "cell_type": "code",
   "execution_count": null,
   "metadata": {},
   "outputs": [],
   "source": [
    "s = [1, 2, 3, 4, 3, 2]\n",
    "print(s)\n",
    "\n",
    "print(s.index(4))  # indeks pierwszego elementu o wartości 4\n",
    "print(s.count(3))  # liczba wszystkich elementów o wartości 3\n",
    "s.sort()  # sortowanie\n",
    "print(s)\n",
    "s.reverse() # odwracanie\n",
    "print(s)"
   ]
  },
  {
   "cell_type": "code",
   "execution_count": null,
   "metadata": {},
   "outputs": [],
   "source": [
    "s = [1, 2, 3, 4, 3, 2]\n",
    "print(s)\n",
    "s.sort(reverse = True)  # sortowanie\n",
    "print(s)\n",
    "s = ['c','A','b','M','z','R']\n",
    "s.sort()\n",
    "print(s)\n",
    "s.sort(key = str.lower)\n",
    "print(s)\n",
    "s = ['c','A','b','M','z','R']\n",
    "s.sort(key = str.lower, reverse = True)\n",
    "print(s)"
   ]
  },
  {
   "cell_type": "markdown",
   "metadata": {
    "deletable": false,
    "editable": false,
    "nbgrader": {
     "cell_type": "markdown",
     "checksum": "4037d6cc1b342344069beb9a634dd586",
     "grade": false,
     "grade_id": "cell-04351e5b0acc8f0d",
     "locked": true,
     "schema_version": 3,
     "solution": false,
     "task": false
    }
   },
   "source": [
    "Metoda wbudowana `sorted(iterable, key=None, reverse=False)` zwraca nową, posortowaną listę."
   ]
  },
  {
   "cell_type": "code",
   "execution_count": null,
   "metadata": {},
   "outputs": [],
   "source": [
    "s = ['c','A','b','M','z','R']\n",
    "print(s)\n",
    "s1 = sorted(s,key = str.lower, reverse = False)\n",
    "print(s1)\n",
    "tekst = 'informatyka'\n",
    "s1 = sorted(tekst,key = str.lower, reverse = True)\n",
    "print(s1)"
   ]
  },
  {
   "cell_type": "markdown",
   "metadata": {
    "deletable": false,
    "editable": false,
    "nbgrader": {
     "cell_type": "markdown",
     "checksum": "eb0ba1c134b62cb20cc22168b503eb49",
     "grade": false,
     "grade_id": "cell-962f37b812bcd4d5",
     "locked": true,
     "schema_version": 3,
     "solution": false
    }
   },
   "source": [
    "### Ćwiczenie 1a\n",
    "Zimplementuj algorytm LIFO używając listy jako stosu. Po każdym dodaniu lub zdjęciu elementu wypisz zawartość stosu.\n",
    "\n",
    "Stos to liniowa struktura danych, w której dane dodawane sa tylko na szczyt stosu i tylko ze szczytu stosu sa pobierane. Jest to bufor typu LIFO (ang. Last-In-First-Out) – ostatnie weszło, pierwsze wyszło."
   ]
  },
  {
   "cell_type": "code",
   "execution_count": 3,
   "metadata": {
    "deletable": false,
    "nbgrader": {
     "cell_type": "code",
     "checksum": "ea1cbd44cf52dafba0ebcf55e7892a7f",
     "grade": false,
     "grade_id": "cell-69afc2493bbfff96",
     "locked": false,
     "schema_version": 3,
     "solution": true
    }
   },
   "outputs": [
    {
     "name": "stdout",
     "output_type": "stream",
     "text": [
      "['paczka 1']\n",
      "['paczka 1', 'paczka 2']\n",
      "['paczka 1']\n",
      "['paczka 1', 'paczka 3']\n"
     ]
    }
   ],
   "source": [
    "stos = []\n",
    "\n",
    "# YOUR CODE HERE\n",
    "stos.append('paczka 1')\n",
    "print(stos)\n",
    "stos.append('paczka 2')\n",
    "print(stos)\n",
    "stos.pop()\n",
    "print(stos)\n",
    "stos.append('paczka 3')\n",
    "print(stos)\n",
    "# raise NotImplementedError()"
   ]
  },
  {
   "cell_type": "markdown",
   "metadata": {
    "deletable": false,
    "editable": false,
    "nbgrader": {
     "cell_type": "markdown",
     "checksum": "b0f3fc17eb838bbd72756799e02fdc67",
     "grade": false,
     "grade_id": "cell-7d308dce3e679aac",
     "locked": true,
     "schema_version": 3,
     "solution": false
    }
   },
   "source": [
    "#### Tworzenie list z ciągu znaków (łańcuchów), słów  i na odwrót :).\n",
    "Funkcje `list()`, `split()`, `join()`. Metoda `join()` jest odwrotnością metody `split()`."
   ]
  },
  {
   "cell_type": "code",
   "execution_count": 4,
   "metadata": {},
   "outputs": [
    {
     "name": "stdout",
     "output_type": "stream",
     "text": [
      "['i', 'n', 'f', 'o', 'r', 'm', 'a', 't', 'y', 'k', 'a']\n"
     ]
    }
   ],
   "source": [
    "s = 'informatyka'\n",
    "t = list(s)  # tworzenie listy z łańcucha znaków\n",
    "print(t)"
   ]
  },
  {
   "cell_type": "code",
   "execution_count": 5,
   "metadata": {},
   "outputs": [
    {
     "name": "stdout",
     "output_type": "stream",
     "text": [
      "['informatyka', 'jest', 'super!']\n"
     ]
    }
   ],
   "source": [
    "s = 'informatyka jest super!'\n",
    "t = s.split()  # tworzenie listy ze słów\n",
    "print(t)"
   ]
  },
  {
   "cell_type": "code",
   "execution_count": 6,
   "metadata": {},
   "outputs": [
    {
     "name": "stdout",
     "output_type": "stream",
     "text": [
      "['informatyka', 'jest', 'super!']\n",
      "<class 'list'>\n",
      "informatyka jest super!\n",
      "<class 'str'>\n"
     ]
    }
   ],
   "source": [
    "print(t)\n",
    "print(type(t))\n",
    "\n",
    "separator = ' '\n",
    "tekst = separator.join(t) # łączy elementy listy wstawiając między nie separator\n",
    "\n",
    "print(tekst)\n",
    "print(type(tekst))"
   ]
  },
  {
   "cell_type": "markdown",
   "metadata": {
    "deletable": false,
    "editable": false,
    "nbgrader": {
     "cell_type": "markdown",
     "checksum": "6d8fe24680a0246326ffab3c0c7c0ddd",
     "grade": false,
     "grade_id": "cell-3b306c60349c4990",
     "locked": true,
     "schema_version": 3,
     "solution": false
    }
   },
   "source": [
    "## Odwzorowania listowe (list comprehension), czyli szybkie (wygodnie) tworzenie list.\n",
    "\n",
    "Klasyczne tworzenie listy."
   ]
  },
  {
   "cell_type": "code",
   "execution_count": 8,
   "metadata": {},
   "outputs": [
    {
     "name": "stdout",
     "output_type": "stream",
     "text": [
      "[1, 4, 9, 16, 25, 36, 49, 64, 81, 100]\n"
     ]
    }
   ],
   "source": [
    "tab = []  # utworzenie pustego obiektu typu list\n",
    "for i in range(1,11):  # liczby od 1 do 10\n",
    "    tab.append(i**2)   # lista zawierająca kwadraty liczb\n",
    "print(tab)"
   ]
  },
  {
   "cell_type": "markdown",
   "metadata": {
    "deletable": false,
    "editable": false,
    "nbgrader": {
     "cell_type": "markdown",
     "checksum": "8231f353e855ee6035194933aea98725",
     "grade": false,
     "grade_id": "cell-11ce128aec1826e4",
     "locked": true,
     "schema_version": 3,
     "solution": false
    }
   },
   "source": [
    "Używając odwzorowań listowych możemy to samo zapisać krócej."
   ]
  },
  {
   "cell_type": "code",
   "execution_count": 7,
   "metadata": {},
   "outputs": [
    {
     "name": "stdout",
     "output_type": "stream",
     "text": [
      "[1, 4, 9, 16, 25, 36, 49, 64, 81, 100]\n"
     ]
    }
   ],
   "source": [
    "tab2 = [i**2 for i in range(1,11)]\n",
    "print(tab2)"
   ]
  },
  {
   "cell_type": "markdown",
   "metadata": {
    "deletable": false,
    "editable": false,
    "nbgrader": {
     "cell_type": "markdown",
     "checksum": "ca745c75a1f99c9db96c47bb09a55482",
     "grade": false,
     "grade_id": "cell-9d558cf8c2e9ad4f",
     "locked": true,
     "schema_version": 3,
     "solution": false
    }
   },
   "source": [
    "Obiektem po którym iterujemy może być dowolny obiekt iterowalny np. lista, zbiór, słownik itp. \n",
    "\n",
    "Możemy również generować w ten sposób listy wielowymiarowe."
   ]
  },
  {
   "cell_type": "code",
   "execution_count": 9,
   "metadata": {},
   "outputs": [
    {
     "name": "stdout",
     "output_type": "stream",
     "text": [
      "[[1, 'a'], [1, 'b'], [1, 'c'], [1, 'd'], [2, 'a'], [2, 'b'], [2, 'c'], [2, 'd'], [3, 'a'], [3, 'b'], [3, 'c'], [3, 'd'], [4, 'a'], [4, 'b'], [4, 'c'], [4, 'd']]\n"
     ]
    }
   ],
   "source": [
    "tab3 = [[i,j] for i in [1,2,3,4] for j in ['a','b','c','d']]\n",
    "print(tab3)"
   ]
  },
  {
   "cell_type": "code",
   "execution_count": 10,
   "metadata": {},
   "outputs": [
    {
     "name": "stdout",
     "output_type": "stream",
     "text": [
      "[1, 1, 1, 1, 2, 2, 2, 2, 3, 3, 3, 3, 4, 4, 4, 4]\n"
     ]
    }
   ],
   "source": [
    "tab4 = [i for i in [1,2,3,4] for j in ['a','b','c','d']]\n",
    "print(tab4)"
   ]
  },
  {
   "cell_type": "code",
   "execution_count": 11,
   "metadata": {},
   "outputs": [
    {
     "name": "stdout",
     "output_type": "stream",
     "text": [
      "[[1, 2, 3, 4], [1, 2, 3, 4], [1, 2, 3, 4], [1, 2, 3, 4]]\n"
     ]
    }
   ],
   "source": [
    "tab5 = [[i for i in [1,2,3,4]] for j in ['a','b','c','d']]\n",
    "print(tab5)"
   ]
  },
  {
   "cell_type": "markdown",
   "metadata": {
    "deletable": false,
    "editable": false,
    "nbgrader": {
     "cell_type": "markdown",
     "checksum": "3576a4146510aac5b2f8c2d44cc38e23",
     "grade": false,
     "grade_id": "cell-f73de08fd1d287db",
     "locked": true,
     "schema_version": 3,
     "solution": false
    }
   },
   "source": [
    "W konstrukcji odwzorowań listowych możemy używać również instrukcji warunkowych."
   ]
  },
  {
   "cell_type": "code",
   "execution_count": 12,
   "metadata": {},
   "outputs": [
    {
     "name": "stdout",
     "output_type": "stream",
     "text": [
      "[1, 4, 9, 16, 25, 36, 49, 64, 81, 100]\n",
      "[9, 36, 81]\n"
     ]
    }
   ],
   "source": [
    "tab = [i**2 for i in range(1,11)]\n",
    "print(tab)\n",
    "\n",
    "tab2 = [x  for x in tab2 if x%3==0 ]  # tylko liczby podzielne przez 3 z listy tab\n",
    "print(tab2)"
   ]
  },
  {
   "cell_type": "code",
   "execution_count": 13,
   "metadata": {},
   "outputs": [
    {
     "name": "stdout",
     "output_type": "stream",
     "text": [
      "[0, 0, 9, 0, 0, 36, 0, 0, 81, 0]\n"
     ]
    }
   ],
   "source": [
    "tab3 = [x if x%3==0 else 0 for x in tab]  #liczby podzielne przez 3 zostaw bez zmian a pozostałe zastąp zerem\n",
    "print(tab3)"
   ]
  },
  {
   "cell_type": "code",
   "execution_count": 14,
   "metadata": {},
   "outputs": [
    {
     "name": "stdout",
     "output_type": "stream",
     "text": [
      "[(1, 3), (1, 4), (2, 3), (2, 1), (2, 4), (3, 1), (3, 4)]\n"
     ]
    }
   ],
   "source": [
    "# jeśli wyrażenie będące elementem listy (np.(x,y)) jest krotką należy ująć je w nawiasy\n",
    "lista = [(x,y) for x in [1,2,3] for y in [3,1,4] if x != y]\n",
    "print(lista)"
   ]
  },
  {
   "cell_type": "code",
   "execution_count": 15,
   "metadata": {},
   "outputs": [
    {
     "name": "stdout",
     "output_type": "stream",
     "text": [
      "[1, 2, 3, 4, 5, 6, 7, 8, 9]\n"
     ]
    }
   ],
   "source": [
    "# \"wypłaszczenie\" listy przy użyciu podwójnego for\n",
    "wektor = [[1,2,3],[4,5,6],[7,8,9]]\n",
    "lista1 = [i for x in wektor for i in x]\n",
    "print(lista1)"
   ]
  },
  {
   "cell_type": "markdown",
   "metadata": {
    "deletable": false,
    "editable": false,
    "nbgrader": {
     "cell_type": "markdown",
     "checksum": "a208a88e8feea0903640a3d8e4d126e1",
     "grade": false,
     "grade_id": "cell-6d2f7453d8188d60",
     "locked": true,
     "schema_version": 3,
     "solution": false
    }
   },
   "source": [
    "### Ćwiczenie 2a\n",
    "Wykorzystując odwzorowania listowe napisz program, który dla poszczególnych elementów podanej listy obliczy pierwiastek z sumy kwadratów składowych."
   ]
  },
  {
   "cell_type": "code",
   "execution_count": 17,
   "metadata": {
    "deletable": false,
    "nbgrader": {
     "cell_type": "code",
     "checksum": "2d7627f9d756312d649cce28a9a57002",
     "grade": false,
     "grade_id": "cell-9cf8dcdd2ee15d5f",
     "locked": false,
     "schema_version": 3,
     "solution": true
    }
   },
   "outputs": [
    {
     "name": "stdout",
     "output_type": "stream",
     "text": [
      "[2.23606797749979, 5.0, 7.810249675906654]\n"
     ]
    }
   ],
   "source": [
    "import math\n",
    "lista = [(1,2), (3,4), (5,6)]\n",
    "\n",
    "# YOUR CODE HERE\n",
    "wynik = [math.sqrt(x**2+y**2) for x,y in lista]\n",
    "print(wynik)\n",
    "#raise NotImplementedError()"
   ]
  },
  {
   "cell_type": "markdown",
   "metadata": {
    "deletable": false,
    "editable": false,
    "nbgrader": {
     "cell_type": "markdown",
     "checksum": "8c3bc3bf243aa0b5a27b0a3b9f849bdc",
     "grade": false,
     "grade_id": "cell-dfbacb2eee0a38a9",
     "locked": true,
     "schema_version": 3,
     "solution": false
    }
   },
   "source": [
    "## Kopiowanie list (dowolnych kontenerów obiektów).\n",
    "\n",
    "Do kopiowania list (klas, słowników) używamy metod `copy` i `deepcopy` z modułu `copy`.\n",
    "\n",
    "Mamy dwa rodzaje kopiowania:\n",
    "\n",
    "- płytkie - `copy.copy(obiekt)`, tworzy nowy obiekt, ale umieszcza w nim odniesienia (referencje) do elementów zawartych w oryginalnym obiekcie;\n",
    "\n",
    "- głębokie - `copy.deepcopy(obiekt)` najpierw tworzy nowy obiekt, a nastepnie rekurencyjnie kopiuje do niego całą zawartość oryginału;\n",
    "\n",
    "Dla list kopiowanie płytkie można zrealizować przy pomocy metody `copy()` typu `list` lub przez mechanizm wycinania `[:]`.\n",
    "\n",
    "\n",
    "#### Kopiowanie płytkie\n",
    "\n",
    "Kopiowanie list odbywa się przez referencje tzn. nie tworzony jest nowy obiekt ale tworzone jest nowe odwołanie (alias) do tego samego obiektu."
   ]
  },
  {
   "cell_type": "code",
   "execution_count": 18,
   "metadata": {},
   "outputs": [
    {
     "name": "stdout",
     "output_type": "stream",
     "text": [
      "[1, 2, 3, 4] [1, 2, 3, 4]\n",
      "1405981140992 1405981140992\n"
     ]
    }
   ],
   "source": [
    "s = [1, 2, 3, 4]\n",
    "t = s             # operator przypisania nie kopiuje obiektów! - tworzy nową zmienną, która jest referencją do org. obiektu\n",
    "print(s, t)\n",
    "print (id(s), id(t))"
   ]
  },
  {
   "cell_type": "code",
   "execution_count": 19,
   "metadata": {},
   "outputs": [
    {
     "name": "stdout",
     "output_type": "stream",
     "text": [
      "[1, 121, 3, 4] [1, 121, 3, 4]\n"
     ]
    }
   ],
   "source": [
    "s[1] = 121  # zmieniamy też w t\n",
    "print(s, t)"
   ]
  },
  {
   "cell_type": "markdown",
   "metadata": {
    "deletable": false,
    "editable": false,
    "nbgrader": {
     "cell_type": "markdown",
     "checksum": "c674d70ba60137ebc602c19ca099875e",
     "grade": false,
     "grade_id": "cell-1f7d7f48c30de806",
     "locked": true,
     "schema_version": 3,
     "solution": false
    }
   },
   "source": [
    "__Uwaga:__ Aby skopiować listy tworząc nowy obiekt (kopię płytką) należy użyć metody `copy()` typu `list` lub użyć operatora `[:]`."
   ]
  },
  {
   "cell_type": "code",
   "execution_count": 20,
   "metadata": {},
   "outputs": [
    {
     "name": "stdout",
     "output_type": "stream",
     "text": [
      "[1, 2, 3, 4] [1, 2, 3, 4]\n",
      "1405982128640 1405982128064\n",
      "[1, 2, 3, 4] [1, 2, 122, 4]\n"
     ]
    }
   ],
   "source": [
    "s = [1, 2, 3, 4]\n",
    "p = s.copy()\n",
    "print(s, p)\n",
    "print (id(s), id(p))\n",
    "p[2] = 122\n",
    "print(s, p)"
   ]
  },
  {
   "cell_type": "code",
   "execution_count": 21,
   "metadata": {},
   "outputs": [
    {
     "name": "stdout",
     "output_type": "stream",
     "text": [
      "[1, 2, 3, 4] [1, 2, 3, 4]\n",
      "1405982128768 1405982128000\n"
     ]
    }
   ],
   "source": [
    "# zamiast copy() można użyć [:]\n",
    "s = [1, 2, 3, 4]\n",
    "q = s[:]\n",
    "print(s, q)\n",
    "print (id(s), id(q))"
   ]
  },
  {
   "cell_type": "markdown",
   "metadata": {
    "deletable": false,
    "editable": false,
    "nbgrader": {
     "cell_type": "markdown",
     "checksum": "c1ca5d49406c034bf14e4c63420431bd",
     "grade": false,
     "grade_id": "cell-a392f86602d16ca8",
     "locked": true,
     "schema_version": 3,
     "solution": false,
     "task": false
    }
   },
   "source": [
    "Wykorzystanie modułu `copy` do kopiowania płytkiego listy."
   ]
  },
  {
   "cell_type": "code",
   "execution_count": 22,
   "metadata": {},
   "outputs": [
    {
     "name": "stdout",
     "output_type": "stream",
     "text": [
      "[1, 2, 3, 4] [1, 2, 3, 4]\n",
      "1405982130112 1405982129280\n"
     ]
    }
   ],
   "source": [
    "import copy\n",
    "s = [1, 2, 3, 4]\n",
    "r = copy.copy(s) # kopia płytka\n",
    "print(s, r)\n",
    "print (id(s), id(r))"
   ]
  },
  {
   "cell_type": "markdown",
   "metadata": {
    "deletable": false,
    "editable": false,
    "nbgrader": {
     "cell_type": "markdown",
     "checksum": "214750a80d45833d901a65d5e0f3eaa4",
     "grade": false,
     "grade_id": "cell-fdaa8dcacfb1e750",
     "locked": true,
     "schema_version": 3,
     "solution": false,
     "task": false
    }
   },
   "source": [
    "#### Kopia płytka (shallow copy) vs kopia głęboka (deep copy)\n",
    "\n",
    "Kopiowanie głębokie zabezpiecza nas przed zmianami na oryginalnym obiekcie w odróżnieniu od kopiowania płytkiego."
   ]
  },
  {
   "cell_type": "code",
   "execution_count": 23,
   "metadata": {},
   "outputs": [
    {
     "name": "stdout",
     "output_type": "stream",
     "text": [
      "[1, 2, [31, 32], 4]\n",
      "[1, 2, [55, 32], 4]\n"
     ]
    }
   ],
   "source": [
    "import copy                      # import modułu\n",
    "lista1 = [1, 2, [31, 32], 4]\n",
    "lista_p = copy.copy(lista1)      # kopiowanie płytkie\n",
    "print(lista1)                    # elementy oryginalnej listy\n",
    "lista_p[2][0] = 55               # zmiana wartości elementu w nowej liście\n",
    "print(lista1)                    # elementy oryginalnej listy - zmiana !!!"
   ]
  },
  {
   "cell_type": "code",
   "execution_count": 24,
   "metadata": {},
   "outputs": [
    {
     "name": "stdout",
     "output_type": "stream",
     "text": [
      "[1, 2, [31, 32], 4]\n",
      "[1, 2, [31, 32], 4]\n"
     ]
    }
   ],
   "source": [
    "import copy                      # import modułu\n",
    "lista1 = [1, 2, [31, 32], 4]\n",
    "lista_g = copy.deepcopy(lista1)  # kopiowanie głębokie\n",
    "print(lista1)                    # elementy oryginalnej listy\n",
    "lista_g[2][0] = 55               # zmiana wartości elementu w nowej liście\n",
    "print(lista1)                    # elementy oryginalnej listy - bez zmian !!!"
   ]
  },
  {
   "cell_type": "markdown",
   "metadata": {
    "deletable": false,
    "editable": false,
    "nbgrader": {
     "cell_type": "markdown",
     "checksum": "684b348bd194f39489fd60c59a1ae38b",
     "grade": false,
     "grade_id": "cell-de89d29cd69dc3a7",
     "locked": true,
     "schema_version": 3,
     "solution": false
    }
   },
   "source": [
    "### Przekazywanie list do funkcji.\n",
    "Przekazywanie list do funkcji odbywa się przez referencje (podobnie jak kopiowanie) tzn. nie tworzony jest nowy obiekt ale tworzone jest nowe odwołanie (alias) do tego samego obiektu."
   ]
  },
  {
   "cell_type": "code",
   "execution_count": 25,
   "metadata": {},
   "outputs": [
    {
     "name": "stdout",
     "output_type": "stream",
     "text": [
      "1405982179968\n",
      "funkcja: 1405982179968\n",
      "[1, 2, 111, 4]\n"
     ]
    }
   ],
   "source": [
    "a = [1, 2, 3, 4]\n",
    "print(id(a))  # sprawdzenie id obiektu a\n",
    "\n",
    "def fun(b):\n",
    "    b[2] = 111 \n",
    "    print('funkcja:',id(b))  # sprawdzenie id obiektu b\n",
    "\n",
    "fun(a)  # wywołanie funkcji z obiektem a\n",
    "print(a)"
   ]
  },
  {
   "cell_type": "markdown",
   "metadata": {
    "deletable": false,
    "editable": false,
    "nbgrader": {
     "cell_type": "markdown",
     "checksum": "a245a68b5bcf88ee32e97dd23effa1cb",
     "grade": false,
     "grade_id": "cell-b7dc026a0039d3fa",
     "locked": true,
     "schema_version": 3,
     "solution": false
    }
   },
   "source": [
    "Jeżeli nie chcemy aby funkcja modyfikowała oryginalną listę tworzymy kopię.\n",
    "\n",
    "__Uwaga__: Jeżeli występują listy zagnieżdzone należy wykonać kopię głęboką."
   ]
  },
  {
   "cell_type": "code",
   "execution_count": 26,
   "metadata": {},
   "outputs": [
    {
     "name": "stdout",
     "output_type": "stream",
     "text": [
      "1405982182720\n",
      "funkcja: 1405982180608\n",
      "[1, 2, 111, 4]\n",
      "[1, 2, 3, 4]\n"
     ]
    }
   ],
   "source": [
    "a = [1, 2, 3, 4]\n",
    "print(id(a))  # sprawdzenie id obiektu a\n",
    "\n",
    "def fun(b):\n",
    "    tmp = b.copy()  # utworzenie płytkiej kopii listy\n",
    "    tmp[2] = 111 \n",
    "    print('funkcja:',id(tmp))  # sprawdzenie id obiektu tmp\n",
    "    return tmp\n",
    "\n",
    "print(fun(a))  # wywołanie funkcji z obiektem a, funkcja zwraca listę\n",
    "print(a)  # lista oryginalna bez zmian"
   ]
  },
  {
   "cell_type": "code",
   "execution_count": null,
   "metadata": {},
   "outputs": [],
   "source": [
    "import copy\n",
    "a = [[5], [6,7], [8,9,10]]\n",
    "print(id(a))  # sprawdzenie id obiektu a\n",
    "\n",
    "def fun(b):\n",
    "    tmp = copy.deepcopy(b)  # utworzenie kopii głębokiej listy\n",
    "    tmp[2][0] = 111 \n",
    "    print('funkcja:',id(tmp))  # sprawdzenie id obiektu tmp\n",
    "    return tmp\n",
    "\n",
    "print(fun(a))  # wywołanie funkcji z obiektem a, funkcja zwraca listę\n",
    "print(a)  # lista oryginalna bez zmian"
   ]
  },
  {
   "cell_type": "markdown",
   "metadata": {
    "deletable": false,
    "editable": false,
    "nbgrader": {
     "cell_type": "markdown",
     "checksum": "f5159ec6cbf6ecd16c652fc3ffdfb988",
     "grade": false,
     "grade_id": "cell-23341f5c2b4703ad",
     "locked": true,
     "schema_version": 3,
     "solution": false
    }
   },
   "source": [
    "### Ćwiczenie 3a\n",
    "Napisz funkcję która pobiera listę złożoną z list liczb całkowitych i zwraca sumę wszystkich elementów."
   ]
  },
  {
   "cell_type": "code",
   "execution_count": 27,
   "metadata": {
    "deletable": false,
    "nbgrader": {
     "cell_type": "code",
     "checksum": "260d95c4f1ef6ac3063081271228e8a0",
     "grade": false,
     "grade_id": "cell-d0d9c2b7fa544b96",
     "locked": false,
     "schema_version": 3,
     "solution": true
    }
   },
   "outputs": [
    {
     "data": {
      "text/plain": [
       "45"
      ]
     },
     "execution_count": 27,
     "metadata": {},
     "output_type": "execute_result"
    }
   ],
   "source": [
    "a = [[5], [6,7], [8,9,10]]\n",
    "\n",
    "# YOUR CODE HERE\n",
    "def suma(lista):\n",
    "    wynik = 0\n",
    "    for i in lista:\n",
    "        wynik = wynik + sum(i)\n",
    "    return wynik\n",
    "\n",
    "suma(a)\n",
    "\n",
    "# raise NotImplementedError()"
   ]
  },
  {
   "cell_type": "markdown",
   "metadata": {
    "deletable": false,
    "editable": false,
    "nbgrader": {
     "cell_type": "markdown",
     "checksum": "ea7f7a063d3cbb8d58c39d22bf3c693d",
     "grade": false,
     "grade_id": "cell-16d4c94e4bf1db7c",
     "locked": true,
     "schema_version": 3,
     "solution": false
    }
   },
   "source": [
    "## Zadanie 1a\n",
    "Napisz funkcję, której argumentem formalnym jest lista zawierająca liczby całkowite. Funkcja pozostawia w liście elementy większe od zera. Elementy mniejsze od zera zamienia na `0`. Funkcja zwraca nową (zmodyfikowaną) listę."
   ]
  },
  {
   "cell_type": "code",
   "execution_count": 51,
   "metadata": {
    "deletable": false,
    "nbgrader": {
     "cell_type": "code",
     "checksum": "20ccaf993fc6b2b17907b224185fa8a2",
     "grade": true,
     "grade_id": "cell-b753b0808ed69c27",
     "locked": false,
     "points": 1,
     "schema_version": 3,
     "solution": true
    }
   },
   "outputs": [
    {
     "data": {
      "text/plain": [
       "[1, 0, 10, 0, 0, 3, 0]"
      ]
     },
     "execution_count": 51,
     "metadata": {},
     "output_type": "execute_result"
    }
   ],
   "source": [
    "a = [1, -1, 10, 0, -12, 3, -2]\n",
    "# YOUR CODE HERE\n",
    "def fun1(list):\n",
    "    wynik = []\n",
    "\n",
    "    for i, el in enumerate(list):\n",
    "        if list[i] >= 0:\n",
    "            wynik.append(el)\n",
    "        else:\n",
    "            wynik.append(0)\n",
    "    return wynik\n",
    "\n",
    "fun1(a)\n",
    "# raise NotImplementedError()"
   ]
  },
  {
   "cell_type": "markdown",
   "metadata": {
    "deletable": false,
    "editable": false,
    "nbgrader": {
     "cell_type": "markdown",
     "checksum": "d1a477fb89543539450b371017a66142",
     "grade": false,
     "grade_id": "cell-3c31f3a88a5ee2df",
     "locked": true,
     "schema_version": 3,
     "solution": false
    }
   },
   "source": [
    "## Zadanie 2a\n",
    "Napisz funkcję, której argumentem formalnym jest lista zawierająca liczby. Funkcja ma sprawdzić, czy w liście znajdują się co najmniej dwa takie same elementy. Jeżeli `tak` funkcja zwraca wartość `True`. Jeżeli elementy są różne funkcja zwraca `False`. Lista oryginalna ma pozostać bez zmian."
   ]
  },
  {
   "cell_type": "code",
   "execution_count": 43,
   "metadata": {
    "deletable": false,
    "nbgrader": {
     "cell_type": "code",
     "checksum": "0ff37efb60ed5902699000e60c0204eb",
     "grade": true,
     "grade_id": "cell-8d5e1cb71dac421e",
     "locked": false,
     "points": 1,
     "schema_version": 3,
     "solution": true
    }
   },
   "outputs": [
    {
     "data": {
      "text/plain": [
       "False"
      ]
     },
     "execution_count": 43,
     "metadata": {},
     "output_type": "execute_result"
    }
   ],
   "source": [
    "a = [1, -1, 10, 0, -12, 3, -2]\n",
    "# YOUR CODE HERE\n",
    "def fun2(list):\n",
    "    copy_list = list.copy()\n",
    "    copy_list.sort()\n",
    "    for i, el in enumerate(copy_list):\n",
    "        if(i+1 == len(copy_list)):\n",
    "            return False\n",
    "        if(copy_list[i] == copy_list[i+1]):\n",
    "            return True\n",
    "fun2(a)\n",
    "\n",
    "# raise NotImplementedError()"
   ]
  },
  {
   "cell_type": "markdown",
   "metadata": {
    "deletable": false,
    "editable": false,
    "nbgrader": {
     "cell_type": "markdown",
     "checksum": "4729117730e36afe34072824f228e0ec",
     "grade": false,
     "grade_id": "cell-93ca59162ede0095",
     "locked": true,
     "schema_version": 3,
     "solution": false
    }
   },
   "source": [
    "## Zadanie 3a\n",
    "Napisz funkcję, której argumentem formalnym jest lista zawierająca liczby. Funkcja ma wypisać najmniejszą i największą wartość  w liście oraz średnią arytmetyczną wszystkich elementów."
   ]
  },
  {
   "cell_type": "code",
   "execution_count": 45,
   "metadata": {
    "deletable": false,
    "nbgrader": {
     "cell_type": "code",
     "checksum": "4429b515fa6497726fbacfad654916be",
     "grade": true,
     "grade_id": "cell-e5e9b6f23e9b5dea",
     "locked": false,
     "points": 1,
     "schema_version": 3,
     "solution": true
    }
   },
   "outputs": [
    {
     "name": "stdout",
     "output_type": "stream",
     "text": [
      "-12 10 -0.14285714285714285\n"
     ]
    }
   ],
   "source": [
    "# YOUR CODE HERE\n",
    "def fun3(list):\n",
    "     print(min(list), max(list), sum(list)/len(list))\n",
    "fun3(a)\n",
    "# raise NotImplementedError()"
   ]
  },
  {
   "cell_type": "markdown",
   "metadata": {
    "deletable": false,
    "editable": false,
    "nbgrader": {
     "cell_type": "markdown",
     "checksum": "5eeb23e28c3ff0834a171069bd7d717f",
     "grade": false,
     "grade_id": "cell-7360cbcdbd921647",
     "locked": true,
     "schema_version": 3,
     "solution": false
    }
   },
   "source": [
    "## Zadanie 4a\n",
    "\n",
    "Napisz funkcję kopiującą listę przesłaną jako argument. Wykorzystaj mechanizm `list comprehensions`. Funkcja zwraca nowoutworzoną listę.\n"
   ]
  },
  {
   "cell_type": "code",
   "execution_count": 129,
   "metadata": {
    "deletable": false,
    "nbgrader": {
     "cell_type": "code",
     "checksum": "fc75026884e9f3e6b416d05af92cf8c5",
     "grade": true,
     "grade_id": "cell-f8a91ff31ea65291",
     "locked": false,
     "points": 1,
     "schema_version": 3,
     "solution": true
    }
   },
   "outputs": [
    {
     "data": {
      "text/plain": [
       "['m',\n",
       " 'y',\n",
       " 't',\n",
       " 's',\n",
       " 'c',\n",
       " 'e',\n",
       " 'd',\n",
       " 'u',\n",
       " 'o',\n",
       " 'l',\n",
       " 'p',\n",
       " 'a',\n",
       " 'i',\n",
       " 'ę',\n",
       " 'ć',\n",
       " 'r',\n",
       " 'k',\n",
       " 'z',\n",
       " 'w',\n",
       " 'n']"
      ]
     },
     "execution_count": 129,
     "metadata": {},
     "output_type": "execute_result"
    }
   ],
   "source": [
    "# YOUR CODE HERE\n",
    "# raise NotImplementedError()\n",
    "def fun4(list):\n",
    "    return [el for el in list]\n",
    "    \n",
    "fun4(a)"
   ]
  },
  {
   "cell_type": "markdown",
   "metadata": {
    "deletable": false,
    "editable": false,
    "nbgrader": {
     "cell_type": "markdown",
     "checksum": "4f99d0dbd12750031bcd8ae910f09a26",
     "grade": false,
     "grade_id": "cell-54d0774cb1629874",
     "locked": true,
     "schema_version": 3,
     "solution": false,
     "task": false
    }
   },
   "source": [
    "## Zadanie 5a\n",
    "\n",
    "Napisz funkcję przyjmującą jako argument listę, kopiującą ją i zmieniającą każdy element nowej listy tak, aby był on średnią arytmetyczną siebie oraz swoich bezpośrednich sąsiadów. Lista przesłana jako argument nie powinna być modyfikowana. Pierwszy i ostatni element listy mogą pozostać niezmienione. Funkcja zwraca nowoutworzoną listę.\n",
    "Utwórz listę złożoną z 20 losowych liczb i zaprezentuj działanie powyższej funkcji."
   ]
  },
  {
   "cell_type": "code",
   "execution_count": 74,
   "metadata": {
    "deletable": false,
    "nbgrader": {
     "cell_type": "code",
     "checksum": "f3cba67f836a87321b5153beed77af8a",
     "grade": true,
     "grade_id": "cell-f2febd36d47bcf54",
     "locked": false,
     "points": 1,
     "schema_version": 3,
     "solution": true,
     "task": false
    }
   },
   "outputs": [
    {
     "name": "stdout",
     "output_type": "stream",
     "text": [
      "[21, 16, 12, 28, 18]\n"
     ]
    },
    {
     "data": {
      "text/plain": [
       "[21, 16.333333333333332, 18.777777777777775, 21.59259259259259, 18]"
      ]
     },
     "execution_count": 74,
     "metadata": {},
     "output_type": "execute_result"
    }
   ],
   "source": [
    "# YOUR CODE HERE\n",
    "import random\n",
    "\n",
    "def fun5(list):\n",
    "    copy_list = [el for el in list]\n",
    "    for i, el in enumerate(copy_list):\n",
    "        if(i+1 == len(copy_list)):\n",
    "            continue\n",
    "        elif(i == 0):\n",
    "            continue\n",
    "        else:\n",
    "            copy_list[i] = (copy_list[i-1]+copy_list[i]+copy_list[i+1])/3\n",
    "    return copy_list\n",
    "\n",
    "random_list = random.sample(range(10, 30), 5)\n",
    "print(random_list)\n",
    "fun5(random_list)\n",
    "        \n",
    "# raise NotImplementedError()"
   ]
  },
  {
   "cell_type": "markdown",
   "metadata": {
    "deletable": false,
    "editable": false,
    "nbgrader": {
     "cell_type": "markdown",
     "checksum": "d899327e7c3801e2c4c07ce7d71b098b",
     "grade": false,
     "grade_id": "cell-ab2eb135f3577a5d",
     "locked": true,
     "schema_version": 3,
     "solution": false,
     "task": false
    }
   },
   "source": [
    "## Zadanie 6a\n",
    "\n",
    "Napisz funkcję przyjmującą jako argumenty dwie listy, zwracającą listę, której elementami jest suma odpowiednich elementów przesłanych list (`c[0]=a[0]+b[0]`, `c[1]=a[1]+b[1]` itd.). Jeśli listy nie są równej długości, wyjściowa lista powinna mieć tyle elementów, ile ma krótsza z list. Wykorzystaj mechanizm `list comprehensions`."
   ]
  },
  {
   "cell_type": "code",
   "execution_count": 4,
   "metadata": {
    "deletable": false,
    "nbgrader": {
     "cell_type": "code",
     "checksum": "90171e55fbf61928c23d386649cee748",
     "grade": true,
     "grade_id": "cell-d881c32c5ed4acb6",
     "locked": false,
     "points": 1,
     "schema_version": 3,
     "solution": true,
     "task": false
    }
   },
   "outputs": [
    {
     "data": {
      "text/plain": [
       "[3, 7, 11]"
      ]
     },
     "execution_count": 4,
     "metadata": {},
     "output_type": "execute_result"
    }
   ],
   "source": [
    "# YOUR CODE HERE\n",
    "def fun6(list1, list2):\n",
    "    return [el1+el2 for el1, el2 in zip(list1, list2)]\n",
    "\n",
    "list1 = [1, 3, 5]\n",
    "list2 = [2, 4, 6]\n",
    "\n",
    "fun6(list1, list2)\n",
    "#raise NotImplementedError()"
   ]
  },
  {
   "cell_type": "markdown",
   "metadata": {
    "deletable": false,
    "editable": false,
    "nbgrader": {
     "cell_type": "markdown",
     "checksum": "5106356f2f411b8f605cc8824ef4ed5f",
     "grade": false,
     "grade_id": "cell-fa614b6c8603efa2",
     "locked": true,
     "schema_version": 3,
     "solution": false,
     "task": false
    }
   },
   "source": [
    "## Zadanie 7a\n",
    "\n",
    "Podobnie jak w zadaniu 6., napisz funkcję przyjmującą jako argumenty dwie listy, zwracającą listę, której elementami jest iloraz odpowiednich elementów przesłanych list. Jeśli listy nie są równej długości, wyjściowa lista powinna mieć tyle elementów, ile ma krótsza z list. Wykorzystaj mechanizm `list comprehensions`. Pamiętaj, że nie można dzielić przez zero – jeśli dzielnik miałby być zerem, to pomiń element (wykorzystaj `if` w `list comprehensions`)."
   ]
  },
  {
   "cell_type": "code",
   "execution_count": 11,
   "metadata": {
    "deletable": false,
    "nbgrader": {
     "cell_type": "code",
     "checksum": "60d5c80c27ccfa32397b8a6417ae9947",
     "grade": true,
     "grade_id": "cell-cc0366108d70eeb3",
     "locked": false,
     "points": 1,
     "schema_version": 3,
     "solution": true,
     "task": false
    }
   },
   "outputs": [
    {
     "data": {
      "text/plain": [
       "[0.5, 0.75, 0.8333333333333334, 1.0]"
      ]
     },
     "execution_count": 11,
     "metadata": {},
     "output_type": "execute_result"
    }
   ],
   "source": [
    "# YOUR CODE HERE\n",
    "def fun7(list1, list2):\n",
    "    return [el1/el2 for el1, el2 in zip(list1, list2) if el2 != 0]\n",
    "\n",
    "list1 = [1, 3, 5, 3, 5]\n",
    "list2 = [2, 4, 6, 0, 5]\n",
    "\n",
    "fun7(list1, list2)\n",
    "\n",
    "#raise NotImplementedError()"
   ]
  },
  {
   "cell_type": "markdown",
   "metadata": {
    "deletable": false,
    "editable": false,
    "nbgrader": {
     "cell_type": "markdown",
     "checksum": "76fa38677368b98519465e6bcd94a427",
     "grade": false,
     "grade_id": "cell-88a1d1dbe0144d6f",
     "locked": true,
     "schema_version": 3,
     "solution": false,
     "task": false
    }
   },
   "source": [
    "## Zadanie 8a\n",
    "\n",
    "Napisz funkcję przyjmującą jako argument listę, wybierającą z niej trzy najmniejsze elementy w kolejności malejącej, trzy największe elementy również w kolejności malejącej. Funkcja zwraca listę złożoną z tych elementów. Wykorzystaj metody/funkcje `sort()`/`sorted()` oraz `reverse()`/`reversed()`.\n",
    "Przykład.\n",
    "\n",
    "```python\n",
    "#dane\n",
    "a = [0, 1, -5, 8, 14, 9, 6]\n",
    "#wynik\n",
    "[1, 0, -5, 14, 9, 8]\n",
    "```"
   ]
  },
  {
   "cell_type": "code",
   "execution_count": 22,
   "metadata": {
    "deletable": false,
    "nbgrader": {
     "cell_type": "code",
     "checksum": "e34d382f5fb7a03d1cbec02268ad8372",
     "grade": true,
     "grade_id": "cell-4ebcfdb156ada60c",
     "locked": false,
     "points": 1,
     "schema_version": 3,
     "solution": true,
     "task": false
    }
   },
   "outputs": [
    {
     "name": "stdout",
     "output_type": "stream",
     "text": [
      "[1, 0, -5, 14, 9, 8]\n"
     ]
    }
   ],
   "source": [
    "# YOUR CODE HERE\n",
    "def fun8(list: list):\n",
    "    list.sort()\n",
    "    new_list = list[0:3]\n",
    "    new_list.reverse()\n",
    "    new_list.extend(list[:3:-1])\n",
    "    return new_list\n",
    "\n",
    "a = [0, 1, -5, 8, 14, 9, 6]\n",
    "print(fun8(a))\n",
    "# raise NotImplementedError()"
   ]
  },
  {
   "cell_type": "markdown",
   "metadata": {
    "deletable": false,
    "editable": false,
    "nbgrader": {
     "cell_type": "markdown",
     "checksum": "9c192debb6f11736fcbf5fc358908ca5",
     "grade": false,
     "grade_id": "cell-a12f5fac94409d80",
     "locked": true,
     "schema_version": 3,
     "solution": false,
     "task": false
    }
   },
   "source": [
    "## Zadanie 9a\n",
    "\n",
    "Napisz funkcję przyjmującą jako argument listę. Funkcja usuwa z listy co trzeci element oraz wszystkie elementy o wartości mniejszej od 0. Wykorzystaj `del`.\n",
    "Przykład.\n",
    "\n",
    "```python\n",
    "#dane\n",
    "a = [1, 2, 3, -4, 5, 6, 7, 8, 9, 10, -11, 12]\n",
    "#wynik\n",
    "[1, 2, 5, 7, 8, 10]\n",
    "```\n"
   ]
  },
  {
   "cell_type": "code",
   "execution_count": 9,
   "metadata": {
    "deletable": false,
    "nbgrader": {
     "cell_type": "code",
     "checksum": "77ba899367bda832a7d523c6d31121f8",
     "grade": true,
     "grade_id": "cell-88a249a422252816",
     "locked": false,
     "points": 1,
     "schema_version": 3,
     "solution": true,
     "task": false
    }
   },
   "outputs": [
    {
     "name": "stdout",
     "output_type": "stream",
     "text": [
      "[1, 2, 5, 7, 8, 10]\n"
     ]
    }
   ],
   "source": [
    "# YOUR CODE HERE\n",
    "def fun9(list: list):\n",
    "    del list[2::3]\n",
    "    list = [el for el in list if el >= 0]\n",
    "    return list\n",
    "\n",
    "a = [1, 2, 3, -4, 5, 6, 7, 8, 9, 10, -11, 12]\n",
    "print(fun9(a))\n",
    "# raise NotImplementedError()"
   ]
  },
  {
   "cell_type": "markdown",
   "metadata": {
    "deletable": false,
    "editable": false,
    "nbgrader": {
     "cell_type": "markdown",
     "checksum": "585035609164f3bf049e7160d6c7901f",
     "grade": false,
     "grade_id": "cell-75addf2df4389236",
     "locked": true,
     "schema_version": 3,
     "solution": false,
     "task": false
    }
   },
   "source": [
    "## Zadanie 10a\n",
    "\n",
    "Napisz funkcję przyjmującą jako argument listę oraz pewną liczbę całkowitą `odstęp`, wstawiającą `0` do listy co `odstęp` elementów.\n",
    "\n",
    "Przykład.\n",
    "\n",
    "```python\n",
    "#dane\n",
    "a = [1, 2, 3, 4, 5, 6, 7, 8, 9, 10]\n",
    "#wynik dla fun10(a,2)\n",
    "[1, 2, 0, 3, 4, 0, 5, 6, 0, 7, 8, 0, 9, 10, 0]\n",
    "#wynik dla fun10(a,3)\n",
    "[1, 2, 3, 0, 4, 5, 6, 0, 7, 8, 9, 0, 10]\n",
    "```"
   ]
  },
  {
   "cell_type": "code",
   "execution_count": 41,
   "metadata": {
    "deletable": false,
    "nbgrader": {
     "cell_type": "code",
     "checksum": "ba76cc9317ce09620fd640d0732a1e05",
     "grade": true,
     "grade_id": "cell-689dddceae10dd54",
     "locked": false,
     "points": 1,
     "schema_version": 3,
     "solution": true,
     "task": false
    }
   },
   "outputs": [
    {
     "name": "stdout",
     "output_type": "stream",
     "text": [
      "[1, 2, 0, 3, 4, 0, 5, 6, 0, 7, 8, 0, 9, 10, 0]\n",
      "[1, 2, 3, 0, 4, 5, 6, 0, 7, 8, 9, 0, 10]\n"
     ]
    }
   ],
   "source": [
    "# YOUR CODE HERE\n",
    "def fun10(list: list, odstęp):\n",
    "    new_list = list.copy()\n",
    "    i = odstęp\n",
    "    while i <= len(new_list):\n",
    "        new_list.insert(i, 0) \n",
    "        i+=odstęp+1\n",
    "    return new_list\n",
    "\n",
    "a = [1, 2, 3, 4, 5, 6, 7, 8, 9, 10]\n",
    "print(fun10(a, 2), fun10(a, 3), sep=\"\\n\")\n",
    "\n",
    "#raise NotImplementedError()"
   ]
  },
  {
   "cell_type": "markdown",
   "metadata": {
    "deletable": false,
    "editable": false,
    "nbgrader": {
     "cell_type": "markdown",
     "checksum": "70587cf8d17449c57cae73e9caa2c3d5",
     "grade": false,
     "grade_id": "cell-1a6e42804f009622",
     "locked": true,
     "schema_version": 3,
     "solution": false,
     "task": false
    }
   },
   "source": [
    "## Zadanie 11a\n",
    "\n",
    "Napisz funkcję przyjmującą jako argument wielkość planszy/tablicy. Funkcja zwraca tablicę dwuwymiarową wypełnioną na zmianę `1` i `0`, na kształt szachownicy. Wykorzystaj mechanizm `list comprehensions`.\n",
    "\n",
    "Przykład.\n",
    "\n",
    "```python\n",
    "#dane\n",
    "tab = fun11(3)\n",
    "#wynik\n",
    "[[1, 0, 1], [0, 1, 0], [1, 0, 1]]\n",
    "```\n",
    "\n"
   ]
  },
  {
   "cell_type": "code",
   "execution_count": 83,
   "metadata": {
    "deletable": false,
    "nbgrader": {
     "cell_type": "code",
     "checksum": "8478ae7f327e1aab2561fce2df50c388",
     "grade": true,
     "grade_id": "cell-5a0c5ee907859c03",
     "locked": false,
     "points": 1,
     "schema_version": 3,
     "solution": true,
     "task": false
    }
   },
   "outputs": [
    {
     "name": "stdout",
     "output_type": "stream",
     "text": [
      "[[1, 0, 1], [0, 1, 0], [1, 0, 1]]\n"
     ]
    }
   ],
   "source": [
    "# YOUR CODE HERE\n",
    "def fun11(size):\n",
    "    chessboard = [[1 if b%2 == 0 else 0 for b in range(size)] if i%2 == 0 else [0 if b%2 == 0 else 1 for b in range(size)] for i in range(size)]\n",
    "    return chessboard\n",
    "\n",
    "print(fun11(3))\n",
    "\n",
    "# raise NotImplementedError()"
   ]
  },
  {
   "cell_type": "markdown",
   "metadata": {
    "deletable": false,
    "editable": false,
    "nbgrader": {
     "cell_type": "markdown",
     "checksum": "80f5c428ac728cb7cc9123c0b8a926f8",
     "grade": false,
     "grade_id": "cell-0cd2ec7a31574cb3",
     "locked": true,
     "schema_version": 3,
     "solution": false,
     "task": false
    }
   },
   "source": [
    "## Zadanie 12a\n",
    "\n",
    "Napisz dwie funkcje `fun1()` i `fun2()`. Funkcja `fun1()` zwraca liczbę samogłosek w tekście przesłanym jako argument. Funkcja `fun2()` przyjmuje jako argument listę tekstów i zwraca listę utworzoną z tych elementów przesłanej listy, które zawierają parzystą liczbę samogłosek. Wykorzystaj mechanizm `list comprehensions` oraz operator `in` do sprawdzania czy litera jest samogłoską.\n",
    "\n",
    "```python\n",
    "if znak in \"aiueoyąę\":\n",
    "     print(\"samogłoska\")\n",
    "else:\n",
    "     print(\"nie samogłoska\")\n",
    "```\n",
    "\n",
    "\n",
    "\n",
    "Przykład.\n",
    "\n",
    "```python\n",
    "#dane\n",
    "fun2([\"Robot\", \"Mech\", \"Metal Gear\", \"Android\"])\n",
    "#wynik\n",
    "['Robot', 'Metal Gear']\n",
    "```"
   ]
  },
  {
   "cell_type": "code",
   "execution_count": 75,
   "metadata": {
    "deletable": false,
    "nbgrader": {
     "cell_type": "code",
     "checksum": "f16dec9d10c2cb0aa385e71336cf7b5b",
     "grade": true,
     "grade_id": "cell-f79bb93cf7482155",
     "locked": false,
     "points": 1,
     "schema_version": 3,
     "solution": true,
     "task": false
    }
   },
   "outputs": [
    {
     "data": {
      "text/plain": [
       "['Robot', 'Metal Gear']"
      ]
     },
     "execution_count": 75,
     "metadata": {},
     "output_type": "execute_result"
    }
   ],
   "source": [
    "# YOUR CODE HERE\n",
    "def fun1(tekst):\n",
    "    n = len([1 for i in tekst.lower() if i in 'aiueoyąę'])\n",
    "    return n\n",
    "\n",
    "def fun2(lista):\n",
    "    lista_n = [i for i in lista if fun1(i)%2 == 0]\n",
    "    return lista_n\n",
    "\n",
    "fun2([\"Robot\", \"Mech\", \"Metal Gear\", \"Android\"])\n",
    "\n",
    "\n",
    "# raise NotImplementedError()"
   ]
  },
  {
   "cell_type": "markdown",
   "metadata": {
    "deletable": false,
    "editable": false,
    "nbgrader": {
     "cell_type": "markdown",
     "checksum": "7d73ef253e1cccc755347430ae144810",
     "grade": false,
     "grade_id": "cell-03d560060389930d",
     "locked": true,
     "schema_version": 3,
     "solution": false,
     "task": false
    }
   },
   "source": [
    "## Zadanie 13a\n",
    "\n",
    "Zdefiniuj funkcje przyjmującą jako argument formalny dowolną liczbę argumentów. Załóż, że argumenty wejściowe będą zawsze listami. Funkcja powinna zwrócić - bez modyfikacji list oryginalnych - listę zawierającą wszystkie, niepowtarzające się elementy wszystkich list (funkcja usuwa elementy powtarzające się).\n",
    "\n",
    "Przykład.\n",
    "\n",
    "```python\n",
    "#dane\n",
    "l1 = [0, 1, 2, 30, 4]\n",
    "l2 = [3, 4, 5, 6, 7]\n",
    "l3 = [7, 8, 9]\n",
    "l4 = [10, 11, 12, 5]\n",
    "#wynik\n",
    "[0, 1, 2, 3, 4, 5, 6, 7, 8, 9, 10, 11, 12, 30]\n",
    "```"
   ]
  },
  {
   "cell_type": "code",
   "execution_count": 76,
   "metadata": {
    "deletable": false,
    "nbgrader": {
     "cell_type": "code",
     "checksum": "58d0a6b6de24f86685b8e28b3f556cb5",
     "grade": true,
     "grade_id": "cell-21e44f5b57c56bfe",
     "locked": false,
     "points": 1,
     "schema_version": 3,
     "solution": true,
     "task": false
    }
   },
   "outputs": [
    {
     "name": "stdout",
     "output_type": "stream",
     "text": [
      "[0, 1, 2, 3, 4, 5, 6, 7, 8, 9, 10, 11, 12, 30]\n"
     ]
    }
   ],
   "source": [
    "# YOUR CODE HERE\n",
    "def fun13(*args):\n",
    "    lista_n = []\n",
    "    for arg in args:\n",
    "        for i in arg:\n",
    "            if i not in lista_n:\n",
    "                lista_n.append(i)\n",
    "    lista_n.sort()\n",
    "    return lista_n\n",
    "\n",
    "l1 = [0, 1, 2, 30, 4]\n",
    "l2 = [3, 4, 5, 6, 7]\n",
    "l3 = [7, 8, 9]\n",
    "l4 = [10, 11, 12, 5]\n",
    "\n",
    "print(fun13(l1, l2, l3, l4))\n",
    "# raise NotImplementedError()"
   ]
  },
  {
   "cell_type": "markdown",
   "metadata": {
    "deletable": false,
    "editable": false,
    "nbgrader": {
     "cell_type": "markdown",
     "checksum": "33ab0073d745a4c25f5942447c31b275",
     "grade": false,
     "grade_id": "cell-b7a58b0dd72a225d",
     "locked": true,
     "schema_version": 3,
     "solution": false,
     "task": false
    }
   },
   "source": [
    "# Temat_2b: \n",
    "# Krotki. Zbiory. Słowniki.\n",
    "Zapoznaj się z treścią niniejszego notatnika czytając i wykonując go komórka po komórce. Wykonaj napotkane zadania/ćwiczenia.\n",
    "\n",
    "## Krotki\n",
    "\n",
    "\n",
    "- Krotka to nowy typ zmiennych: `tuple`. \n",
    "- Typ `immutable` - niemutowalny.\n",
    "- Składają się z pewnej liczby elementów oddzielonych przecinkiem, można je ująć w nawiasy `()` (czasami jest to wręcz konieczne gdy np. występują zagnieżdżenia lub jeśli stosujemy je w wyrażeniach).\n",
    "- Mają wiele zastosowań (np. jako para współrzędnych `(x,y)`, rekord pracowników z bazy danych itd.)\n",
    "- Nie jest możliwe przypisanie poszczególnym elementom takiej listy wartości, aczkolwiek można to zasymulować poprzez wycinanie i sklejanie. \n",
    "- Możliwe jest tworzenie krotek, które zawierają mutowalne obiekty takie jak np. listy.\n",
    "- Zwykle zawierają heterogeniczne sekwencje danych.\n",
    "- Przy pomocy operatorów `in`, `not in` można testować przynależność elementu do krotki.\n",
    "- Funkcja zwracająca kilka obiektów, zwraca je jako krotkę.\n",
    "\n",
    "\n",
    "### Tworzenie krotek. Funkcja `tuple()`, użycie `()`. \n",
    "Aby utworzyć krotkę należy użyć nawiasów `()` lub funkcji `tuple()` z argumentem bedącym obiektem iterowalnym. Jeżeli nie podamy żadnych argumentów tworzona jest pusta krotka. Krotkę możemy utorzyć z kilku obiektów oddzielonych przecinkami (bez użycia nawiasów `()`). Krotki z jednym elementem tworzymy poprzez wartość, po której następuje przecinek (nie wystarcza otoczyć pojedynczą wartość nawiasami okrągłymi).\n",
    "\n",
    "\n",
    "#### Proste przykłady:"
   ]
  },
  {
   "cell_type": "code",
   "execution_count": 77,
   "metadata": {},
   "outputs": [
    {
     "name": "stdout",
     "output_type": "stream",
     "text": [
      "<class 'tuple'>\n",
      "(1, 2, 3, 4, 5)\n",
      "True\n",
      "False\n",
      "3\n",
      "(2, 3)\n"
     ]
    }
   ],
   "source": [
    "k = (1,2,3,4,5)  # tworzenie krotki\n",
    "print(type(k))\n",
    "print(k)\n",
    "print(2 in k)  # spradzenie czy element jest w krotce\n",
    "print(0 in k)\n",
    "print(k[2])    # wypisanie elementu\n",
    "print(k[1:3])"
   ]
  },
  {
   "cell_type": "code",
   "execution_count": 84,
   "metadata": {},
   "outputs": [
    {
     "name": "stdout",
     "output_type": "stream",
     "text": [
      "<class 'tuple'>\n",
      "(11, [21, 22], 'tekst')\n"
     ]
    }
   ],
   "source": [
    "k1 = 11, [21, 22], 'tekst' # tworzenie krotki - krotka może zawierać obiekty różnych typów\n",
    "print(type(k1))\n",
    "print(k1)"
   ]
  },
  {
   "cell_type": "code",
   "execution_count": 78,
   "metadata": {},
   "outputs": [
    {
     "name": "stdout",
     "output_type": "stream",
     "text": [
      "((1, 2, 3, 4, 5), (22, 33, 44))\n",
      "33\n"
     ]
    }
   ],
   "source": [
    "k = (1,2,3,4,5)\n",
    "t = k, (22,33,44) #krotki można zagnieżdżać\n",
    "print(t)\n",
    "print(t[1][1])"
   ]
  },
  {
   "cell_type": "code",
   "execution_count": 79,
   "metadata": {},
   "outputs": [
    {
     "ename": "TypeError",
     "evalue": "'tuple' object does not support item assignment",
     "output_type": "error",
     "traceback": [
      "\u001b[1;31m---------------------------------------------------------------------------\u001b[0m",
      "\u001b[1;31mTypeError\u001b[0m                                 Traceback (most recent call last)",
      "\u001b[1;32m<ipython-input-79-194e0f50433b>\u001b[0m in \u001b[0;36m<module>\u001b[1;34m\u001b[0m\n\u001b[0;32m      1\u001b[0m \u001b[0mk\u001b[0m \u001b[1;33m=\u001b[0m \u001b[1;33m(\u001b[0m\u001b[1;36m1\u001b[0m\u001b[1;33m,\u001b[0m\u001b[1;36m2\u001b[0m\u001b[1;33m,\u001b[0m\u001b[1;36m3\u001b[0m\u001b[1;33m,\u001b[0m\u001b[1;36m4\u001b[0m\u001b[1;33m,\u001b[0m\u001b[1;36m5\u001b[0m\u001b[1;33m)\u001b[0m\u001b[1;33m\u001b[0m\u001b[1;33m\u001b[0m\u001b[0m\n\u001b[1;32m----> 2\u001b[1;33m \u001b[0mk\u001b[0m\u001b[1;33m[\u001b[0m\u001b[1;36m2\u001b[0m\u001b[1;33m]\u001b[0m \u001b[1;33m=\u001b[0m \u001b[1;36m111\u001b[0m   \u001b[1;31m#błąd - krotka jest obiektem niemutowalnym\u001b[0m\u001b[1;33m\u001b[0m\u001b[1;33m\u001b[0m\u001b[0m\n\u001b[0m",
      "\u001b[1;31mTypeError\u001b[0m: 'tuple' object does not support item assignment"
     ]
    }
   ],
   "source": [
    "k = (1,2,3,4,5)\n",
    "k[2] = 111   #błąd - krotka jest obiektem niemutowalnym"
   ]
  },
  {
   "cell_type": "code",
   "execution_count": 80,
   "metadata": {},
   "outputs": [
    {
     "name": "stdout",
     "output_type": "stream",
     "text": [
      "<class 'tuple'> ([1, 2, 3], [3, 2, 1])\n",
      "<class 'tuple'> ([1, 2, 3], [3, 111, 1])\n"
     ]
    }
   ],
   "source": [
    "t = [1,2,3],[3,2,1]\n",
    "print(type(t),t)    # krotki mogą zwracać/zawierać obiekty mutowalne - wtedy można modyfikować takie elementy\n",
    "t[1][1] = 111     \n",
    "print(type(t),t)"
   ]
  },
  {
   "cell_type": "code",
   "execution_count": 83,
   "metadata": {},
   "outputs": [
    {
     "name": "stdout",
     "output_type": "stream",
     "text": [
      "() ()\n",
      "('a',)\n"
     ]
    }
   ],
   "source": [
    "p = ()     #pusta krotka\n",
    "r = tuple()\n",
    "print(p,r)\n",
    "s = 'a',   #krotka jednoelementowa\n",
    "print(s)"
   ]
  },
  {
   "cell_type": "code",
   "execution_count": 84,
   "metadata": {},
   "outputs": [
    {
     "name": "stdout",
     "output_type": "stream",
     "text": [
      "(1, 2, 3, 4, 5)\n",
      "1 2 3 4 5\n",
      "1 2 3 4 5\n"
     ]
    }
   ],
   "source": [
    "k = (1,2,3,4,5) #rozpakowanie krotki - lista zmiennych po lewej stronie ma tyle samo elementów co krotka\n",
    "a, b, c, d, e = k\n",
    "print(k)\n",
    "print(*k)      #rozpakowanie krotki przy użyciu operatora *\n",
    "print(a,b,c,d,e)"
   ]
  },
  {
   "cell_type": "markdown",
   "metadata": {
    "deletable": false,
    "editable": false,
    "nbgrader": {
     "cell_type": "markdown",
     "checksum": "bfd7ff111f78b1442af970238884dd9e",
     "grade": false,
     "grade_id": "cell-32f71d0cb7b3678a",
     "locked": true,
     "schema_version": 3,
     "solution": false,
     "task": false
    }
   },
   "source": [
    "### Ćwiczenie 1b\n",
    "\n",
    "Napisz funkcję `sincos(x)` liczącą `sin(x)` oraz `cos(x)`, zwracającą obie te wartości naraz (krotka, `tuple`). Wypisz wyniki dla kątów od 0 do 90 stopni:\n",
    "```\n",
    "kąt:   0\t sin:   0.0000000000000000\t cos:   1.0000000000000000\n",
    "kąt:   9\t sin:   0.1564344650402309\t cos:   0.9876883405951378\n",
    "kąt:  18\t sin:   0.3090169943749474\t cos:   0.9510565162951535\n",
    "kąt:  27\t sin:   0.4539904997395467\t cos:   0.8910065241883679\n",
    "kąt:  36\t sin:   0.5877852522924731\t cos:   0.8090169943749475\n",
    "kąt:  45\t sin:   0.7071067811865476\t cos:   0.7071067811865476\n",
    "kąt:  54\t sin:   0.8090169943749475\t cos:   0.5877852522924731\n",
    "kąt:  63\t sin:   0.8910065241883678\t cos:   0.4539904997395468\n",
    "kąt:  72\t sin:   0.9510565162951535\t cos:   0.3090169943749475\n",
    "kąt:  81\t sin:   0.9876883405951378\t cos:   0.1564344650402309\n",
    "kąt:  90\t sin:   1.0000000000000000\t cos:   0.0000000000000001\n",
    "```\n"
   ]
  },
  {
   "cell_type": "code",
   "execution_count": 88,
   "metadata": {
    "deletable": false,
    "nbgrader": {
     "cell_type": "code",
     "checksum": "ca039055f6b739aba5c739c192308c6f",
     "grade": false,
     "grade_id": "cell-0fc96f931c430c1f",
     "locked": false,
     "schema_version": 3,
     "solution": true,
     "task": false
    }
   },
   "outputs": [
    {
     "name": "stdout",
     "output_type": "stream",
     "text": [
      "kąt:   0\t sin:   0.0000000000000000\t cos:   1.0000000000000000\n",
      "kąt:   9\t sin:   0.1564344650402309\t cos:   0.9876883405951378\n",
      "kąt:  18\t sin:   0.3090169943749474\t cos:   0.9510565162951535\n",
      "kąt:  27\t sin:   0.4539904997395467\t cos:   0.8910065241883679\n",
      "kąt:  36\t sin:   0.5877852522924731\t cos:   0.8090169943749475\n",
      "kąt:  45\t sin:   0.7071067811865476\t cos:   0.7071067811865476\n",
      "kąt:  54\t sin:   0.8090169943749475\t cos:   0.5877852522924731\n",
      "kąt:  63\t sin:   0.8910065241883678\t cos:   0.4539904997395468\n",
      "kąt:  72\t sin:   0.9510565162951535\t cos:   0.3090169943749475\n",
      "kąt:  81\t sin:   0.9876883405951378\t cos:   0.1564344650402309\n",
      "kąt:  90\t sin:   1.0000000000000000\t cos:   0.0000000000000001\n"
     ]
    }
   ],
   "source": [
    "import math\n",
    "\n",
    "# YOUR CODE HERE\n",
    "def sincos(x):\n",
    "    return math.sin(math.radians(x)), math.cos(math.radians(x))\n",
    "    \n",
    "for i in range(0,91,9):\n",
    "    sin, cos = sincos(i)\n",
    "    print('kąt: %3d\\t sin: %20.16f\\t cos: %20.16f' %(i,sin, cos))\n",
    "# raise NotImplementedError()"
   ]
  },
  {
   "cell_type": "markdown",
   "metadata": {
    "deletable": false,
    "editable": false,
    "nbgrader": {
     "cell_type": "markdown",
     "checksum": "ce234df54a5580e06df524005dcfdfd8",
     "grade": false,
     "grade_id": "cell-967ba0df8a63b89d",
     "locked": true,
     "schema_version": 3,
     "solution": false,
     "task": false
    }
   },
   "source": [
    "## Zbiory\n",
    "\n",
    "- Zbiór jest nieuporządkowaną kolekcją nie zawierającą duplikatów.\n",
    "- Zbiór to nowy typ zmiennych: `set`. \n",
    "- Przy pomocy operatorów `in`, `not in` można testować przynależność elementu do zbioru\n",
    "- Zbiory umożliwiają wykonywanie takich operacji jak: suma, przecięcie, różnica oraz różnica symetryczna.\n",
    "\n",
    "\n",
    "### Tworzenie zbiorów. Funkcja `set()`, użycie `{}`. \n",
    "Aby utworzyć zbiór należy użyć nawiasów `{}` lub funkcji `set()` z argumentem bedącym obiektem iterowalnym.\n",
    "Aby utworzyć zbiór pusty należy użyć funkcji `set()` bez argumentów, a nie nawiasów `{}`(konstrukcja `{}` tworzy pusty słownik).\n",
    "\n",
    "\n",
    "#### Proste przykłady:"
   ]
  },
  {
   "cell_type": "code",
   "execution_count": 89,
   "metadata": {},
   "outputs": [
    {
     "name": "stdout",
     "output_type": "stream",
     "text": [
      "<class 'set'>\n",
      "{1, 2, 3, 4, 5}\n",
      "True\n",
      "False\n"
     ]
    }
   ],
   "source": [
    "z = {1,2,3,4,5}  # tworzenie zbioru\n",
    "print(type(z))\n",
    "print(z)\n",
    "print(2 in z)  # spradzenie element jest w zbiorze\n",
    "print(0 in z)"
   ]
  },
  {
   "cell_type": "code",
   "execution_count": 90,
   "metadata": {},
   "outputs": [
    {
     "name": "stdout",
     "output_type": "stream",
     "text": [
      "[1, 2, 3, 1, 3, 5, 1]\n",
      "{1, 2, 3, 5}\n"
     ]
    }
   ],
   "source": [
    "p = [1,2,3,1,3,5,1]\n",
    "print(p)\n",
    "zp = set(p)  # tworzenie zbioru z listy\n",
    "print(zp)"
   ]
  },
  {
   "cell_type": "code",
   "execution_count": 91,
   "metadata": {},
   "outputs": [
    {
     "data": {
      "text/plain": [
       "{'a', 'f', 'i', 'k', 'm', 'n', 'o', 'r', 't', 'y'}"
      ]
     },
     "execution_count": 91,
     "metadata": {},
     "output_type": "execute_result"
    }
   ],
   "source": [
    "zt = set('informatyka')  # tworzenie zbioru z tekstu\n",
    "zt"
   ]
  },
  {
   "cell_type": "code",
   "execution_count": 92,
   "metadata": {},
   "outputs": [
    {
     "name": "stdout",
     "output_type": "stream",
     "text": [
      "set()\n",
      "<class 'set'>\n"
     ]
    }
   ],
   "source": [
    "zp = set()  # tworzenie zbioru pustego\n",
    "print(zp)\n",
    "print(type(zp))"
   ]
  },
  {
   "cell_type": "markdown",
   "metadata": {
    "deletable": false,
    "editable": false,
    "nbgrader": {
     "cell_type": "markdown",
     "checksum": "da3ca3b50a8b721e57f7d89d77570ba1",
     "grade": false,
     "grade_id": "cell-84af64975ef9fd82",
     "locked": true,
     "schema_version": 3,
     "solution": false,
     "task": false
    }
   },
   "source": [
    "### Podstawowe operacje na zbiorach:\n",
    "\n",
    "- `|` - Suma zbiorów\n",
    "\n",
    "- `&` - Przecięcie zbiorów\n",
    "\n",
    "- `-` - Różnica zbiorów\n",
    "\n",
    "- `^` - Różnica symetryczna zbiorów"
   ]
  },
  {
   "cell_type": "code",
   "execution_count": 93,
   "metadata": {},
   "outputs": [
    {
     "name": "stdout",
     "output_type": "stream",
     "text": [
      "{'i', 'y', 't', 'a', 'k', 'r', 'm', 'f', 'o', 'n'} {'z', 'i', 'y', 'a', 'f', 'k'}\n",
      "{'z', 'i', 'y', 't', 'a', 'k', 'r', 'm', 'f', 'o', 'n'}\n",
      "{'i', 'y', 'k', 'f', 'a'}\n",
      "{'t', 'r', 'm', 'o', 'n'}\n",
      "{'z'}\n",
      "{'z', 't', 'r', 'm', 'o', 'n'}\n"
     ]
    }
   ],
   "source": [
    "a = set('informatyka')\n",
    "b = set('fizyka')\n",
    "print(a, b)\n",
    "print(a | b)\n",
    "print(a & b)\n",
    "print(a - b)\n",
    "print(b - a)\n",
    "print(a ^ b)"
   ]
  },
  {
   "cell_type": "markdown",
   "metadata": {
    "deletable": false,
    "editable": false,
    "nbgrader": {
     "cell_type": "markdown",
     "checksum": "0dc44ebe647d36ffb004f31929bea4d5",
     "grade": false,
     "grade_id": "cell-a5dd2132a343e693",
     "locked": true,
     "schema_version": 3,
     "solution": false,
     "task": false
    }
   },
   "source": [
    "### Kopiowanie zbiorów\n",
    "Kopiowanie zbiorów odbywa sie poprzez referencje (tak jak w listach). Aby skopiować zbiór tworząc nowy obiekt należy użyć metody `copy()` klasy `set`."
   ]
  },
  {
   "cell_type": "code",
   "execution_count": 94,
   "metadata": {},
   "outputs": [
    {
     "name": "stdout",
     "output_type": "stream",
     "text": [
      "{1, 2, 3, 4, 5}\n",
      "1405998014528 1405998014528\n"
     ]
    }
   ],
   "source": [
    "z = {1,2,3,4,5} \n",
    "p = z\n",
    "print(p)\n",
    "print(id(z),id(p))"
   ]
  },
  {
   "cell_type": "code",
   "execution_count": 95,
   "metadata": {},
   "outputs": [
    {
     "name": "stdout",
     "output_type": "stream",
     "text": [
      "{1, 2, 3, 4, 5}\n",
      "1405997497472 1405998016544\n"
     ]
    }
   ],
   "source": [
    "z = {1,2,3,4,5} \n",
    "q = z.copy()\n",
    "print(q)\n",
    "print(id(z),id(q))"
   ]
  },
  {
   "cell_type": "markdown",
   "metadata": {
    "deletable": false,
    "editable": false,
    "nbgrader": {
     "cell_type": "markdown",
     "checksum": "4d56ac249efe13300c8614ceee152aae",
     "grade": false,
     "grade_id": "cell-cfce876f3202bf15",
     "locked": true,
     "schema_version": 3,
     "solution": false,
     "task": false
    }
   },
   "source": [
    "### Metody wbudowane dla zbiorów.\n",
    "\n",
    "Metody dla zbiorów:\n",
    "https://docs.python.org/3/library/stdtypes.html#set\n",
    "\n",
    "Wybrane metody do użycia:\n",
    "- `add(elem)` - dodaje element `elem` do zbioru.\n",
    "- `remove(elem)` - usuwa element `elem` ze zbioru. Jeżeli elementu nie ma błąd ` KeyError`.\n",
    "- `discard(elem)` - usuwa element `elem` ze zbioru jeżeli w nim jest.\n",
    "- `pop()` - usuwa i zwraca dowolny element ze zbioru.\n",
    "- `clear()` - usuwa wszystkie elementy.\n",
    "- `issubset(z)` - sprawdza czy dany zbiór jest podzbiorem zbioru `z`.\n",
    "- `issuperset(z)` - sprawdza czy dany zbiór zawiera zbiór `z`.\n",
    "\n",
    "__Uwaga!__ Wiekszość metod dla zbiorów modyfikuje zbiór i zwraca `None`."
   ]
  },
  {
   "cell_type": "code",
   "execution_count": 96,
   "metadata": {},
   "outputs": [
    {
     "name": "stdout",
     "output_type": "stream",
     "text": [
      "{1, 2, 3, 4, 5, 6}\n",
      "{2, 3, 4, 5, 6}\n",
      "{2, 3, 4, 5, 6}\n",
      "{3, 4, 5, 6} 2\n",
      "set()\n"
     ]
    }
   ],
   "source": [
    "z = {1,2,3,4,5} \n",
    "z.add(6)  # dodaje element\n",
    "print(z)\n",
    "z.remove(1)  # usuwa element\n",
    "print(z)\n",
    "z.discard(1)  # usuwa element\n",
    "print(z)\n",
    "w = z.pop()  # usuwa i zwraca\n",
    "print(z,w)\n",
    "z.clear()\n",
    "print(z)"
   ]
  },
  {
   "cell_type": "code",
   "execution_count": 97,
   "metadata": {},
   "outputs": [
    {
     "name": "stdout",
     "output_type": "stream",
     "text": [
      "{'i', 'y', 't', 'a', 'k', 'r', 'm', 'f', 'o', 'n'} {'t', 'r', 'm', 'f', 'o', 'a'}\n",
      "True\n",
      "True\n"
     ]
    }
   ],
   "source": [
    "a = set('informatyka')\n",
    "b = set('format')\n",
    "print(a,b)\n",
    "print(b.issubset(a))\n",
    "print(a.issuperset(b))"
   ]
  },
  {
   "cell_type": "markdown",
   "metadata": {
    "deletable": false,
    "editable": false,
    "nbgrader": {
     "cell_type": "markdown",
     "checksum": "61351e10a93421cc5bb92ea3218668e6",
     "grade": false,
     "grade_id": "cell-e3c53ae32cd7fbcf",
     "locked": true,
     "schema_version": 3,
     "solution": false,
     "task": false
    }
   },
   "source": [
    "Do tworzenia zbioru można użyć konstrukcji typu: `set comprehension`."
   ]
  },
  {
   "cell_type": "code",
   "execution_count": 98,
   "metadata": {},
   "outputs": [
    {
     "name": "stdout",
     "output_type": "stream",
     "text": [
      "{'y', 'k', 'i', 'n'}\n"
     ]
    }
   ],
   "source": [
    "z = {i for i in 'informatyka' if i not in 'format'}\n",
    "print(z)"
   ]
  },
  {
   "cell_type": "markdown",
   "metadata": {
    "deletable": false,
    "editable": false,
    "nbgrader": {
     "cell_type": "markdown",
     "checksum": "517282a2cd577d962a469617b284c56d",
     "grade": false,
     "grade_id": "cell-9b5fdaec19b5ac35",
     "locked": true,
     "schema_version": 3,
     "solution": false,
     "task": false
    }
   },
   "source": [
    "### Ćwiczenie 2b\n",
    "Używając zbiorów sprawdź, czy wszystkie litery słowa `slowo` znajdują się w tekście `tekst`."
   ]
  },
  {
   "cell_type": "code",
   "execution_count": 100,
   "metadata": {
    "deletable": false,
    "nbgrader": {
     "cell_type": "code",
     "checksum": "0f005a70476dc5a36152a760369dddf8",
     "grade": false,
     "grade_id": "cell-ceea50f38233285f",
     "locked": false,
     "schema_version": 3,
     "solution": true,
     "task": false
    }
   },
   "outputs": [
    {
     "name": "stdout",
     "output_type": "stream",
     "text": [
      "True\n",
      "True\n"
     ]
    }
   ],
   "source": [
    "slowo = 'ponaddwustudziewięćdziesięciodziewięciokilometrowy'\n",
    "\n",
    "tekst = \"\"\"Najdłuższym polskim słowem mającym dokładnie jedną samogłoskę (czyli jednosylabowym) jest “chrząszcz” (9 liter), choć ma tylko 5 głosek.\n",
    "W innych słowiańskich językach można stworzyć słowa w ogóle bez samogłosek np. sk:vlk czy hr:krk. To drugie znamy też z nazwy słoweńskiej firmy farmaceutycznej: Krka.\n",
    "Najbardziej bezwzględnym słowem dla samogłosek jest właśnie słowo “beZWZGLędny”, bo ma aż pięć spółgłosek obok siebie.\"\"\"\n",
    "\n",
    "# YOUR CODE HERE\n",
    "a = set(slowo)\n",
    "b = set(tekst)\n",
    "print(a <= b)\n",
    "print(a.issubset(b))\n",
    "\n",
    "#raise NotImplementedError()"
   ]
  },
  {
   "cell_type": "markdown",
   "metadata": {
    "deletable": false,
    "editable": false,
    "nbgrader": {
     "cell_type": "markdown",
     "checksum": "710ac261532bf7bc5b734a5d8082309c",
     "grade": false,
     "grade_id": "cell-c236117154d38eb3",
     "locked": true,
     "schema_version": 3,
     "solution": false,
     "task": false
    }
   },
   "source": [
    "## Słowniki\n",
    "\n",
    "- Słownik to nowy typ zmiennych: `dict`. Jest obiektem mapującym tzn. służy mapowaniu nazw na obiekty (tablica asocjacyjna).\n",
    "- Słownik można traktować jako nieuporządkowany zbiór par `klucz:wartość`, z założeniem, że klucze są unikalne (w jednym słowniku).\n",
    "- Słowniki indeksowane są kluczami co oznacza, że do elementów słownika odwołujemy się poprzez klucze. Klucze mogą być obiektami dowolnego, niemutowalnego typu (napisy, liczby, tuple). \n",
    "- Para nawiasów klamrowych tworzy pusty słownik: `{}`.\n",
    "- Umieszczenie listy par `klucz:wartość`, oddzielonych przecinkami w nawiasach `{}` dodaje początkowe pary `klucz:wartość` do słownika.\n",
    "\n",
    "#### Proste przykłady:"
   ]
  },
  {
   "cell_type": "code",
   "execution_count": 102,
   "metadata": {},
   "outputs": [
    {
     "name": "stdout",
     "output_type": "stream",
     "text": [
      "{'imie': 'Karol', 'nazwisko': 'Górski'}\n"
     ]
    },
    {
     "data": {
      "text/plain": [
       "dict"
      ]
     },
     "execution_count": 102,
     "metadata": {},
     "output_type": "execute_result"
    }
   ],
   "source": [
    "d = {'imie': 'Karol', 'nazwisko': 'Górski'}  # tworzenie słownika\n",
    "print(d)\n",
    "type(d)"
   ]
  },
  {
   "cell_type": "code",
   "execution_count": 103,
   "metadata": {},
   "outputs": [
    {
     "data": {
      "text/plain": [
       "'Karol'"
      ]
     },
     "execution_count": 103,
     "metadata": {},
     "output_type": "execute_result"
    }
   ],
   "source": [
    "d['imie']  # odwołanie do elementu słownika poprzez klucz"
   ]
  },
  {
   "cell_type": "code",
   "execution_count": 104,
   "metadata": {},
   "outputs": [
    {
     "data": {
      "text/plain": [
       "dict"
      ]
     },
     "execution_count": 104,
     "metadata": {},
     "output_type": "execute_result"
    }
   ],
   "source": [
    "b = {}  # tworzenie pustego słownika\n",
    "type(d)"
   ]
  },
  {
   "cell_type": "markdown",
   "metadata": {
    "deletable": false,
    "editable": false,
    "nbgrader": {
     "cell_type": "markdown",
     "checksum": "fea0310c298883c84e5a7fe71c9c0b0d",
     "grade": false,
     "grade_id": "cell-c5fe79a623e37c9d",
     "locked": true,
     "schema_version": 3,
     "solution": false,
     "task": false
    }
   },
   "source": [
    "Klucze słownika mogą mieć postać list wartości oddzielonych przecinkami (krotki)."
   ]
  },
  {
   "cell_type": "code",
   "execution_count": 105,
   "metadata": {},
   "outputs": [
    {
     "data": {
      "text/plain": [
       "{(0, 1, 2): 'jeden', (1, 2, 3): 'dwa'}"
      ]
     },
     "execution_count": 105,
     "metadata": {},
     "output_type": "execute_result"
    }
   ],
   "source": [
    "b = {} \n",
    "b[0,1,2] = 'jeden'\n",
    "b[1,2,3] = 'dwa'\n",
    "b"
   ]
  },
  {
   "cell_type": "markdown",
   "metadata": {
    "deletable": false,
    "editable": false,
    "nbgrader": {
     "cell_type": "markdown",
     "checksum": "5f33df62008d4dfe26a86a9ef2c25567",
     "grade": false,
     "grade_id": "cell-3c467581f2ce5748",
     "locked": true,
     "schema_version": 3,
     "solution": false,
     "task": false
    }
   },
   "source": [
    "### Podstawowe operacje na słownikach.\n",
    "\n",
    "Głównymi operacjami na słownikach są:\n",
    "\n",
    "- Dodawanie wartości z jakimś kluczem.\n",
    "- Pobieranie wartości opatrzonej podanym kluczem.\n",
    "- Usuwanie pary `klucz:wartość` za pomoca instrukcji `del`.\n",
    "- `len()` Zwraca liczbę elementów w słowniku."
   ]
  },
  {
   "cell_type": "code",
   "execution_count": 106,
   "metadata": {},
   "outputs": [
    {
     "name": "stdout",
     "output_type": "stream",
     "text": [
      "{'imie': 'Karol', 'nazwisko': 'Górski', 'wiek': 22}\n"
     ]
    }
   ],
   "source": [
    "d = {'imie': 'Karol', 'nazwisko': 'Górski'}\n",
    "d['wiek'] = 22  # dodanie nowego pola - wartość z kluczem\n",
    "print(d)"
   ]
  },
  {
   "cell_type": "code",
   "execution_count": 107,
   "metadata": {},
   "outputs": [
    {
     "name": "stdout",
     "output_type": "stream",
     "text": [
      "Karol\n"
     ]
    }
   ],
   "source": [
    "print(d['imie'])  # odwołanie do elementu przez klucz"
   ]
  },
  {
   "cell_type": "code",
   "execution_count": 108,
   "metadata": {},
   "outputs": [
    {
     "name": "stdout",
     "output_type": "stream",
     "text": [
      "Paweł\n"
     ]
    }
   ],
   "source": [
    "d['imie'] = 'Paweł'  #zmiana wartości dla istniejącego klucza - poprzednia wartość zapominana\n",
    "print(d['imie'])"
   ]
  },
  {
   "cell_type": "code",
   "execution_count": 109,
   "metadata": {},
   "outputs": [
    {
     "data": {
      "text/plain": [
       "{'imie': 'Paweł', 'nazwisko': 'Górski'}"
      ]
     },
     "execution_count": 109,
     "metadata": {},
     "output_type": "execute_result"
    }
   ],
   "source": [
    "del d['wiek']  # usunięcie klucza wiek (z wartością)\n",
    "d"
   ]
  },
  {
   "cell_type": "code",
   "execution_count": 110,
   "metadata": {},
   "outputs": [
    {
     "name": "stdout",
     "output_type": "stream",
     "text": [
      "2\n"
     ]
    }
   ],
   "source": [
    "print(len(d))  # liczba elementów (par klucz:wartość)"
   ]
  },
  {
   "cell_type": "markdown",
   "metadata": {
    "deletable": false,
    "editable": false,
    "nbgrader": {
     "cell_type": "markdown",
     "checksum": "836fafcbc0891957fa58a30c9adc1c63",
     "grade": false,
     "grade_id": "cell-d680bcf8a1731b5a",
     "locked": true,
     "schema_version": 3,
     "solution": false,
     "task": false
    }
   },
   "source": [
    "Próba pozyskania wartości spod klucza, który nie istnieje w słowniku - błąd klucza!"
   ]
  },
  {
   "cell_type": "code",
   "execution_count": 111,
   "metadata": {},
   "outputs": [
    {
     "ename": "KeyError",
     "evalue": "'wiek'",
     "output_type": "error",
     "traceback": [
      "\u001b[1;31m---------------------------------------------------------------------------\u001b[0m",
      "\u001b[1;31mKeyError\u001b[0m                                  Traceback (most recent call last)",
      "\u001b[1;32m<ipython-input-111-3f2b99ef4c1c>\u001b[0m in \u001b[0;36m<module>\u001b[1;34m\u001b[0m\n\u001b[1;32m----> 1\u001b[1;33m \u001b[0md\u001b[0m\u001b[1;33m[\u001b[0m\u001b[1;34m'wiek'\u001b[0m\u001b[1;33m]\u001b[0m\u001b[1;33m\u001b[0m\u001b[1;33m\u001b[0m\u001b[0m\n\u001b[0m",
      "\u001b[1;31mKeyError\u001b[0m: 'wiek'"
     ]
    }
   ],
   "source": [
    "d['wiek']"
   ]
  },
  {
   "cell_type": "markdown",
   "metadata": {
    "deletable": false,
    "editable": false,
    "nbgrader": {
     "cell_type": "markdown",
     "checksum": "be1a035b0b2daa1e89e19b35f16abb01",
     "grade": false,
     "grade_id": "cell-ac75902352ab421a",
     "locked": true,
     "schema_version": 3,
     "solution": false,
     "task": false
    }
   },
   "source": [
    "### Kopiowanie słowników.\n",
    "Kopiowanie słowników odbywa się poprzez referencje. Aby skopiować słownik tworząc nowy obiekt należy użyć\n",
    "metody `copy()` klasy `dict`."
   ]
  },
  {
   "cell_type": "code",
   "execution_count": 112,
   "metadata": {},
   "outputs": [
    {
     "name": "stdout",
     "output_type": "stream",
     "text": [
      "{'imie': 'Karol', 'nazwisko': 'Górski'}\n",
      "1405998051520 1405998051520\n"
     ]
    }
   ],
   "source": [
    "d = {'imie': 'Karol', 'nazwisko': 'Górski'}\n",
    "s = d  # referencja\n",
    "print(s)\n",
    "print(id(d), id(s))"
   ]
  },
  {
   "cell_type": "code",
   "execution_count": 113,
   "metadata": {},
   "outputs": [
    {
     "name": "stdout",
     "output_type": "stream",
     "text": [
      "{'imie': 'Karol', 'nazwisko': 'Górski'}\n",
      "1405998053760 1405998054080\n"
     ]
    }
   ],
   "source": [
    "d = {'imie': 'Karol', 'nazwisko': 'Górski'}\n",
    "r = d.copy()  # kopia\n",
    "print(r)\n",
    "print(id(d), id(r))"
   ]
  },
  {
   "cell_type": "markdown",
   "metadata": {
    "deletable": false,
    "editable": false,
    "nbgrader": {
     "cell_type": "markdown",
     "checksum": "a1d51872f618523d7c29764256027af5",
     "grade": false,
     "grade_id": "cell-f834b10d247906be",
     "locked": true,
     "schema_version": 3,
     "solution": false,
     "task": false
    }
   },
   "source": [
    "### Metody wbudowane dla słowników.\n",
    "\n",
    "Metody dla słowników:\n",
    "https://docs.python.org/3/library/stdtypes.html#dict\n",
    "\n",
    "Wybrane metody do użycia:\n",
    "- `keys()` - zwraca listę kluczy w słowniku.\n",
    "- `values()` - zwraca listę wartości w słowniku.\n",
    "- `items()` - zwraca listę par `(klucz,wartość)`.\n",
    "- `update(s)` - dodaje do słownika wszystkie elementy ze słownika s.\n",
    "- `pop(klucz)` - usuwa wskazany `klucz` ze słownika i zwraca przypisaną mu wartość.\n",
    "- `popitem()` - usuwa parę `(klucz,wartość)` i zwraca ją w postaci tupli (iteracyjne usuwanie zawartości słownika). Pary są zwracane w kolejności LIFO.\n",
    "- `clear()` - usuwa wszystkie elementy słownika."
   ]
  },
  {
   "cell_type": "code",
   "execution_count": 114,
   "metadata": {},
   "outputs": [
    {
     "name": "stdout",
     "output_type": "stream",
     "text": [
      "1)  dict_keys(['imie', 'nazwisko', 'wiek'])\n",
      "2)  dict_values(['Karol', 'Górski', 22])\n",
      "3)  dict_items([('imie', 'Karol'), ('nazwisko', 'Górski'), ('wiek', 22)])\n"
     ]
    }
   ],
   "source": [
    "d = {'imie': 'Karol', 'nazwisko': 'Górski', 'wiek': 22}\n",
    "print('1) ',d.keys())\n",
    "print('2) ',d.values())\n",
    "print('3) ',d.items())"
   ]
  },
  {
   "cell_type": "code",
   "execution_count": 115,
   "metadata": {},
   "outputs": [
    {
     "name": "stdout",
     "output_type": "stream",
     "text": [
      "{'imie': 'Karol', 'nazwisko': 'Górski', 'wiek': 22, 'miejscowość': 'Kraków', 'kod pocztowy': '31-876'}\n",
      "31-876\n",
      "{'imie': 'Karol', 'nazwisko': 'Górski', 'wiek': 22, 'miejscowość': 'Kraków'}\n",
      "('miejscowość', 'Kraków')\n",
      "{'imie': 'Karol', 'nazwisko': 'Górski', 'wiek': 22}\n"
     ]
    },
    {
     "data": {
      "text/plain": [
       "{}"
      ]
     },
     "execution_count": 115,
     "metadata": {},
     "output_type": "execute_result"
    }
   ],
   "source": [
    "d = {'imie': 'Karol', 'nazwisko': 'Górski', 'wiek': 22}\n",
    "s = {'miejscowość': 'Kraków', 'kod pocztowy': '31-876'}\n",
    "d.update(s)\n",
    "print(d)\n",
    "print(d.pop('kod pocztowy'))\n",
    "print(d)\n",
    "print(d.popitem())\n",
    "print(d)\n",
    "d.clear()\n",
    "d"
   ]
  },
  {
   "cell_type": "markdown",
   "metadata": {
    "deletable": false,
    "editable": false,
    "nbgrader": {
     "cell_type": "markdown",
     "checksum": "5765eb2667417d1d6c17270a696a2c92",
     "grade": false,
     "grade_id": "cell-2c2f3344b31d37f6",
     "locked": true,
     "schema_version": 3,
     "solution": false,
     "task": false
    }
   },
   "source": [
    "#### Przeglądanie słowników."
   ]
  },
  {
   "cell_type": "code",
   "execution_count": 116,
   "metadata": {},
   "outputs": [
    {
     "name": "stdout",
     "output_type": "stream",
     "text": [
      "imie, nazwisko, wiek, "
     ]
    }
   ],
   "source": [
    "d = {'imie': 'Karol', 'nazwisko': 'Górski', 'wiek': 22}\n",
    "for key in d.keys():\n",
    "    print(key, end = ', ')"
   ]
  },
  {
   "cell_type": "code",
   "execution_count": 117,
   "metadata": {},
   "outputs": [
    {
     "name": "stdout",
     "output_type": "stream",
     "text": [
      "imie, nazwisko, wiek, "
     ]
    }
   ],
   "source": [
    "# iterowanie po kluczach jest równoważne z iterowaniem po słowniku\n",
    "for el in d:\n",
    "    print(el, end = ', ')"
   ]
  },
  {
   "cell_type": "code",
   "execution_count": 118,
   "metadata": {},
   "outputs": [
    {
     "name": "stdout",
     "output_type": "stream",
     "text": [
      "Karol, Górski, 22, "
     ]
    }
   ],
   "source": [
    "for values in d.values():\n",
    "    print(values, end = ', ')"
   ]
  },
  {
   "cell_type": "code",
   "execution_count": 119,
   "metadata": {},
   "outputs": [
    {
     "name": "stdout",
     "output_type": "stream",
     "text": [
      "('imie', 'Karol'), ('nazwisko', 'Górski'), ('wiek', 22), "
     ]
    }
   ],
   "source": [
    "for item in d.items():\n",
    "    print(item, end = ', ')"
   ]
  },
  {
   "cell_type": "code",
   "execution_count": 120,
   "metadata": {},
   "outputs": [
    {
     "name": "stdout",
     "output_type": "stream",
     "text": [
      "imie Karol\n",
      "nazwisko Górski\n",
      "wiek 22\n"
     ]
    }
   ],
   "source": [
    "for key, values in d.items():\n",
    "    print(key, values)"
   ]
  },
  {
   "cell_type": "markdown",
   "metadata": {
    "deletable": false,
    "editable": false,
    "nbgrader": {
     "cell_type": "markdown",
     "checksum": "de052ca6c506b085fae0153a36b45dca",
     "grade": false,
     "grade_id": "cell-3a1a9cb040f7f4f9",
     "locked": true,
     "schema_version": 3,
     "solution": false,
     "task": false
    }
   },
   "source": [
    "### Operatory `in`, `not in`.\n",
    "\n",
    "Sprawdzenie czy klucz znajduje się w słowniku."
   ]
  },
  {
   "cell_type": "code",
   "execution_count": 121,
   "metadata": {},
   "outputs": [
    {
     "data": {
      "text/plain": [
       "True"
      ]
     },
     "execution_count": 121,
     "metadata": {},
     "output_type": "execute_result"
    }
   ],
   "source": [
    "d = {'imie': 'Karol', 'nazwisko': 'Górski'}\n",
    "'imie' in d"
   ]
  },
  {
   "cell_type": "markdown",
   "metadata": {
    "deletable": false,
    "editable": false,
    "nbgrader": {
     "cell_type": "markdown",
     "checksum": "ba9352702eb1374d7dd024e5b4c65cdc",
     "grade": false,
     "grade_id": "cell-ace9e2dc1366db8b",
     "locked": true,
     "schema_version": 3,
     "solution": false,
     "task": false
    }
   },
   "source": [
    "Sprawdzenie czy wartość znajduje się w słowniku."
   ]
  },
  {
   "cell_type": "code",
   "execution_count": 122,
   "metadata": {},
   "outputs": [
    {
     "name": "stdout",
     "output_type": "stream",
     "text": [
      "dict_values(['Karol', 'Górski'])\n"
     ]
    },
    {
     "data": {
      "text/plain": [
       "False"
      ]
     },
     "execution_count": 122,
     "metadata": {},
     "output_type": "execute_result"
    }
   ],
   "source": [
    "print(d.values())\n",
    "'Michał' in d.values()"
   ]
  },
  {
   "cell_type": "markdown",
   "metadata": {
    "deletable": false,
    "editable": false,
    "nbgrader": {
     "cell_type": "markdown",
     "checksum": "888029203c24a0c3c30b2e2ff3012213",
     "grade": false,
     "grade_id": "cell-f358bf1ebeea029a",
     "locked": true,
     "schema_version": 3,
     "solution": false,
     "task": false
    }
   },
   "source": [
    "Do tworzenia słownika można użyć konstrukcji typu: `dict comprehension`."
   ]
  },
  {
   "cell_type": "code",
   "execution_count": 2,
   "metadata": {},
   "outputs": [
    {
     "name": "stdout",
     "output_type": "stream",
     "text": [
      "{1: 1, 2: 8, 3: 27}\n"
     ]
    },
    {
     "data": {
      "text/plain": [
       "'brak'"
      ]
     },
     "execution_count": 2,
     "metadata": {},
     "output_type": "execute_result"
    }
   ],
   "source": [
    "s = {i : i**3 for i in (1, 2, 3)}\n",
    "print(s)\n",
    "s.get(4,'brak')"
   ]
  },
  {
   "cell_type": "markdown",
   "metadata": {
    "deletable": false,
    "editable": false,
    "nbgrader": {
     "cell_type": "markdown",
     "checksum": "8c594ad169c1cda4fc70d6c60820f6b1",
     "grade": false,
     "grade_id": "cell-02fb6b6f3334506b",
     "locked": true,
     "schema_version": 3,
     "solution": false,
     "task": false
    }
   },
   "source": [
    "### Ćwiczenie 3b\n",
    "Wykorzystując słownik jako licznik napisz program, który zliczy ile razy dana litera występuje w podanym słowie/tekście."
   ]
  },
  {
   "cell_type": "code",
   "execution_count": 3,
   "metadata": {
    "deletable": false,
    "nbgrader": {
     "cell_type": "code",
     "checksum": "e133fe4dbf83927f1db7e30c55f473f4",
     "grade": false,
     "grade_id": "cell-0300df3624b71f69",
     "locked": false,
     "schema_version": 3,
     "solution": true,
     "task": false
    }
   },
   "outputs": [
    {
     "name": "stdout",
     "output_type": "stream",
     "text": [
      "{'R': 1, 'i': 4, 'n': 5, 'd': 1, 'f': 2, 'l': 1, 'e': 9, 's': 5, 'c': 2, 'h': 2, 't': 5, 'k': 1, 'r': 4, 'u': 4, 'g': 6, 'ü': 2, 'b': 3, 'w': 1, 'a': 4, 'z': 1}\n"
     ]
    }
   ],
   "source": [
    "slowo = 'Rindfleischetikettierungsüberwachungsaufgabenübertragungsgesetz' \n",
    "#czyli “prawo do delegowania obowiązków dotyczących nadzoru znakowania bydła i etykietowania wołowiny” :)\n",
    "\n",
    "# YOUR CODE HERE\n",
    "d = {}\n",
    "for z in slowo:\n",
    "    if z not in d:\n",
    "        d[z] = 1\n",
    "    else:\n",
    "        d[z] += 1\n",
    "print(d)\n",
    "#raise NotImplementedError()"
   ]
  },
  {
   "cell_type": "markdown",
   "metadata": {
    "deletable": false,
    "editable": false,
    "nbgrader": {
     "cell_type": "markdown",
     "checksum": "d3d65edbf339c5b5df0b5e7e9419ab17",
     "grade": false,
     "grade_id": "cell-d85eea2ce5453e8e",
     "locked": true,
     "schema_version": 3,
     "solution": false,
     "task": false
    }
   },
   "source": [
    "### Ćwiczenie 4b\n",
    "Wykorzystując słownik napisz translator tekstu na alfabet Mors'a.\n",
    "\n",
    "Szczegółowe informacje znajdziesz pod linkiem : http://alfabetmorsa.pl/\n",
    "\n",
    "Przetłumacz poniższy tekst. Załóżmy, że znakiem rozdzielającym słowa w alfabecie Morse'a jest znak `/`."
   ]
  },
  {
   "cell_type": "code",
   "execution_count": 5,
   "metadata": {
    "deletable": false,
    "nbgrader": {
     "cell_type": "code",
     "checksum": "d75a81f3b705d9ec2bb0e28848a6a7b6",
     "grade": false,
     "grade_id": "cell-1d1f93555977a8c0",
     "locked": false,
     "schema_version": 3,
     "solution": true,
     "task": false
    }
   },
   "outputs": [
    {
     "name": "stdout",
     "output_type": "stream",
     "text": [
      "-- •- - • -- •- - -•-- -•- •- / •• / •• -• ••-• --- •-• -- •- - -•-- -•- •- / •--- • ••• - / ••• ••- •--• • •-• "
     ]
    }
   ],
   "source": [
    "litery = ['A','B','C','D','E','F','G','H','I','J','K','L','M','N','O','P','Q','R','S','T','U',\n",
    "          'V','W','X','Y','Z',' ']\n",
    "mors = ['•-','-•••','-•-•','-••','•','••-•','--•','••••','••','•---','-•-','•-••','--','-•',\n",
    "        '---','•--•','--•-','•-•','•••','-','••-','•••-','•--','-••-','-•--','--••','/']\n",
    "\n",
    "tekst = 'Matematyka i informatyka jest super'\n",
    "\n",
    "# YOUR CODE HERE\n",
    "d = {}\n",
    "i = 0\n",
    "for s in litery:\n",
    "    d[s] = mors[i]\n",
    "    i += 1\n",
    "\n",
    "for z in tekst:\n",
    "    for key, val in d.items():\n",
    "        if z.upper() == key:\n",
    "            print(val, end=\" \")\n",
    "\n",
    "# raise NotImplementedError()"
   ]
  },
  {
   "cell_type": "markdown",
   "metadata": {
    "deletable": false,
    "editable": false,
    "nbgrader": {
     "cell_type": "markdown",
     "checksum": "0ec2e8ec222354bf76360adda15c38c2",
     "grade": false,
     "grade_id": "cell-f1733740118efa1f",
     "locked": true,
     "schema_version": 3,
     "solution": false,
     "task": false
    }
   },
   "source": [
    "## Zadanie 1b\n",
    "\n",
    "Uzupełnij program z __Ćwiczenia 3b__ w taki sposób, aby w tekście tłumaczone były również cyfry, polskie znaki diakrytyczne, znaki interpunkcyjne i symbole. Zaimplementuj obsługę błędu w przypadku nierozpoznania znaku."
   ]
  },
  {
   "cell_type": "code",
   "execution_count": 23,
   "metadata": {
    "deletable": false,
    "nbgrader": {
     "cell_type": "code",
     "checksum": "01f1b583153d608fb6d395dde44c48d9",
     "grade": true,
     "grade_id": "cell-c1d2a4e3de61b4f2",
     "locked": false,
     "points": 1,
     "schema_version": 3,
     "solution": true,
     "task": false
    }
   },
   "outputs": [
    {
     "name": "stdout",
     "output_type": "stream",
     "text": [
      "-- •- - • -- •- - -•-- -•- •- / •• / •• -• ••-• --- •-• -- •- - -•-- -•- •- / •--- • ••• - / ••• ••- •--• • •-• / / •-•- / ••-•• / --••• / ---•• / --••-- / "
     ]
    },
    {
     "ename": "ValueError",
     "evalue": "niepoprawny znak",
     "output_type": "error",
     "traceback": [
      "\u001b[1;31m---------------------------------------------------------------------------\u001b[0m",
      "\u001b[1;31mValueError\u001b[0m                                Traceback (most recent call last)",
      "\u001b[1;32m<ipython-input-23-47ec63f61ebe>\u001b[0m in \u001b[0;36m<module>\u001b[1;34m\u001b[0m\n\u001b[0;32m     25\u001b[0m             \u001b[0mincorrect_value\u001b[0m \u001b[1;33m=\u001b[0m \u001b[1;32mFalse\u001b[0m\u001b[1;33m\u001b[0m\u001b[1;33m\u001b[0m\u001b[0m\n\u001b[0;32m     26\u001b[0m     \u001b[1;32mif\u001b[0m\u001b[1;33m(\u001b[0m\u001b[0mincorrect_value\u001b[0m\u001b[1;33m)\u001b[0m\u001b[1;33m:\u001b[0m\u001b[1;33m\u001b[0m\u001b[1;33m\u001b[0m\u001b[0m\n\u001b[1;32m---> 27\u001b[1;33m         \u001b[1;32mraise\u001b[0m \u001b[0mValueError\u001b[0m\u001b[1;33m(\u001b[0m\u001b[1;34m'niepoprawny znak'\u001b[0m\u001b[1;33m)\u001b[0m\u001b[1;33m\u001b[0m\u001b[1;33m\u001b[0m\u001b[0m\n\u001b[0m\u001b[0;32m     28\u001b[0m \u001b[1;31m#raise NotImplementedError()\u001b[0m\u001b[1;33m\u001b[0m\u001b[1;33m\u001b[0m\u001b[1;33m\u001b[0m\u001b[0m\n",
      "\u001b[1;31mValueError\u001b[0m: niepoprawny znak"
     ]
    }
   ],
   "source": [
    "# YOUR CODE HERE\n",
    "# Ćwiczenie 4b!!!!\n",
    "litery = ['A','B','C','D','E','F','G','H','I','J','K','L','M','N','O','P','Q','R','S','T','U',\n",
    "          'V','W','X','Y','Z',' ', '0', '1', '2', '3', '4', '5', '6', '7', '8', '9', 'Ą','Ć','Ę','Ł','Ń','Ó','Ś','Ż','Ź',\n",
    "          '.',',',\"'\",'\"','_',':',';','?','!','–','+','/','(',')','=','@']\n",
    "mors = ['•-','-•••','-•-•','-••','•','••-•','--•','••••','••','•---','-•-','•-••','--','-•',\n",
    "        '---','•--•','--•-','•-•','•••','-','••-','•••-','•--','-••-','-•--','--••','/', '-----', '•----', '••---', '•••--', \n",
    "        '••••-', '•••••', '-••••', '--•••', '---••', '----•', '•-•-', '-•-••','••-••','•-••-','--•--','---•','•••-•••','--••-•',\n",
    "        '--••-', '•-•-•-', '--••--','•----•','•-••-•','••--•-','---•••','-•-•-•','••--••','-•-•--','-••••-','•-•-•','-••-•',\n",
    "        '-•--•','-•--•-','-•••-','•--•-•']\n",
    "\n",
    "tekst = 'Matematyka i informatyka jest super  Ą Ę 7 8 , μ'\n",
    "\n",
    "# YOUR CODE HERE\n",
    "d = {}\n",
    "i = 0\n",
    "for s in litery:\n",
    "    d[s] = mors[i]\n",
    "    i += 1\n",
    "for z in tekst:\n",
    "    incorrect_value = True\n",
    "    for key, val in d.items():\n",
    "        if z.upper() == key:\n",
    "            print(val, end=\" \")\n",
    "            incorrect_value = False\n",
    "    if(incorrect_value):\n",
    "        raise ValueError('niepoprawny znak')\n",
    "#raise NotImplementedError()"
   ]
  },
  {
   "cell_type": "markdown",
   "metadata": {
    "deletable": false,
    "editable": false,
    "nbgrader": {
     "cell_type": "markdown",
     "checksum": "8dac21b37eac5135196bc9b87ca51f0a",
     "grade": false,
     "grade_id": "cell-017df9249d44ae84",
     "locked": true,
     "schema_version": 3,
     "solution": false,
     "task": false
    }
   },
   "source": [
    "## Zadanie 2b\n",
    "\n",
    "Wykorzystując słownik napisz translator alfabetu Morse'a na tekst. Przetłumacz poniższy tekst. Załóż, że znakiem rozdzielającym słowa w alfabecie Morse'a jest znak `/`. Zaimplementuj obsługę błędu w przypadku nierozpoznania znaku."
   ]
  },
  {
   "cell_type": "code",
   "execution_count": 33,
   "metadata": {
    "deletable": false,
    "nbgrader": {
     "cell_type": "code",
     "checksum": "9e40ceca55c1e8b3e79be883e9882323",
     "grade": true,
     "grade_id": "cell-e03373bfc09a0990",
     "locked": false,
     "points": 1,
     "schema_version": 3,
     "solution": true,
     "task": false
    }
   },
   "outputs": [
    {
     "ename": "ValueError",
     "evalue": "'---------' is not in list",
     "output_type": "error",
     "traceback": [
      "\u001b[1;31m---------------------------------------------------------------------------\u001b[0m",
      "\u001b[1;31mValueError\u001b[0m                                Traceback (most recent call last)",
      "\u001b[1;32m<ipython-input-33-5b1343885789>\u001b[0m in \u001b[0;36m<module>\u001b[1;34m\u001b[0m\n\u001b[0;32m     14\u001b[0m \u001b[0moutput\u001b[0m\u001b[1;33m=\u001b[0m\u001b[1;34m''\u001b[0m\u001b[1;33m\u001b[0m\u001b[1;33m\u001b[0m\u001b[0m\n\u001b[0;32m     15\u001b[0m \u001b[1;32mfor\u001b[0m \u001b[0mx\u001b[0m \u001b[1;32min\u001b[0m \u001b[0mtekst_as_list\u001b[0m\u001b[1;33m:\u001b[0m\u001b[1;33m\u001b[0m\u001b[1;33m\u001b[0m\u001b[0m\n\u001b[1;32m---> 16\u001b[1;33m     \u001b[0mindex_letter\u001b[0m\u001b[1;33m=\u001b[0m\u001b[0mmors\u001b[0m\u001b[1;33m.\u001b[0m\u001b[0mindex\u001b[0m\u001b[1;33m(\u001b[0m\u001b[0mx\u001b[0m\u001b[1;33m)\u001b[0m\u001b[1;33m\u001b[0m\u001b[1;33m\u001b[0m\u001b[0m\n\u001b[0m\u001b[0;32m     17\u001b[0m     \u001b[0moutput\u001b[0m \u001b[1;33m+=\u001b[0m \u001b[1;33m(\u001b[0m\u001b[0mlitery\u001b[0m\u001b[1;33m[\u001b[0m\u001b[0mindex_letter\u001b[0m\u001b[1;33m]\u001b[0m\u001b[1;33m)\u001b[0m\u001b[1;33m\u001b[0m\u001b[1;33m\u001b[0m\u001b[0m\n\u001b[0;32m     18\u001b[0m \u001b[1;33m\u001b[0m\u001b[0m\n",
      "\u001b[1;31mValueError\u001b[0m: '---------' is not in list"
     ]
    }
   ],
   "source": [
    "litery = ['A','B','C','D','E','F','G','H','I','J','K','L','M','N','O','P','Q','R','S','T','U',\n",
    "          'V','W','X','Y','Z',' ', '0', '1', '2', '3', '4', '5', '6', '7', '8', '9', 'Ą','Ć','Ę','Ł','Ń','Ó','Ś','Ż','Ź',\n",
    "          '.',',',\"'\",'\"','_',':',';','?','!','–','+','/','(',')','=','@']\n",
    "mors = ['•-','-•••','-•-•','-••','•','••-•','--•','••••','••','•---','-•-','•-••','--','-•',\n",
    "        '---','•--•','--•-','•-•','•••','-','••-','•••-','•--','-••-','-•--','--••','/', '-----', '•----', '••---', '•••--', \n",
    "        '••••-', '•••••', '-••••', '--•••', '---••', '----•', '•-•-', '-•-••','••-••','•-••-','--•--','---•','•••-•••','--••-•',\n",
    "        '--••-', '•-•-•-', '--••--','•----•','•-••-•','••--•-','---•••','-•-•-•','••--••','-•-•--','-••••-','•-•-•','-••-•',\n",
    "        '-•--•','-•--•-','-•••-','•--•-•']\n",
    "\n",
    "tekst = '-- •- - • -- •- - -•-- -•- •- / •• / •• -• ••-• --- •-• -- •- - -•-- -•- •- / •--- • ••• - / ••• ••- •--• • •-• / / •-•- / ••-•• / --••• / ---•• / --••-- / ---------'\n",
    "\n",
    "# YOUR CODE HERE\n",
    "tekst_as_list=tekst.split()\n",
    "output=''\n",
    "for x in tekst_as_list:\n",
    "    index_letter=mors.index(x)\n",
    "    output += (litery[index_letter])\n",
    "\n",
    "print (output)"
   ]
  },
  {
   "cell_type": "markdown",
   "metadata": {
    "deletable": false,
    "editable": false,
    "nbgrader": {
     "cell_type": "markdown",
     "checksum": "5593d4cff56221c76821d3da5f8abf7f",
     "grade": false,
     "grade_id": "cell-0742af69a22cdf94",
     "locked": true,
     "schema_version": 3,
     "solution": false,
     "task": false
    }
   },
   "source": [
    "## Zadanie 3b\n",
    "\n",
    "Napisz funkcję przyjmującą dwa argumenty, zwracającą parę/krotkę: drugi argument oraz sumę obu argumentów. Wykorzystaj tę funkcję do napisania funkcji zwracającej zadany wyraz ciągu Fibonacciego. \n",
    "\n",
    "https://pl.wikipedia.org/wiki/Ci%C4%85g_Fibonacciego"
   ]
  },
  {
   "cell_type": "code",
   "execution_count": 45,
   "metadata": {
    "deletable": false,
    "nbgrader": {
     "cell_type": "code",
     "checksum": "7f652c36a3979128056d0851d77085b0",
     "grade": true,
     "grade_id": "cell-ebfa53af22c22fad",
     "locked": false,
     "points": 1,
     "schema_version": 3,
     "solution": true,
     "task": false
    }
   },
   "outputs": [
    {
     "name": "stdout",
     "output_type": "stream",
     "text": [
      "(34, 55)\n",
      "(13, 25)\n"
     ]
    }
   ],
   "source": [
    "# YOUR CODE HERE\n",
    "raise NotImplementedError()\n",
    "def helper(arg1, arg2):\n",
    "    return arg2,arg1+arg2\n",
    "\n",
    "def fibonacci(n):\n",
    "    if n < 3:\n",
    "        return 1\n",
    "    return helper(n-1, n)\n",
    "\n",
    "print(helper(21,34))\n",
    "print(fibonacci(13))"
   ]
  },
  {
   "cell_type": "markdown",
   "metadata": {
    "deletable": false,
    "editable": false,
    "nbgrader": {
     "cell_type": "markdown",
     "checksum": "6e5be4b806c9f9950db401d8d7459fff",
     "grade": false,
     "grade_id": "cell-03c0e5d929ca1eb2",
     "locked": true,
     "schema_version": 3,
     "solution": false,
     "task": false
    }
   },
   "source": [
    "## Zadanie 4b\n",
    "\n",
    "Napisz funkcję 'rozmywającą' listę. Funkcja powinna jako argument przyjmować listę i wagi, utworzyć kopię przesłaniej listy, której każdy element (poza pierwszym i ostatnim) jest zamieniamy na średnią ważoną siebie oraz swoich bezpośrednich sąsiadów, z przesłanymi wagami. Funkcja powinna zwrócić nową listę – przesłana jako argument nie powinna być modyfikowana.\n",
    "Utwórz listę 20 losowych liczb i zaprezentuj działanie powyższej funkcji.\n",
    "Przykładowe wywołania i wyniki:\n",
    "``` python\n",
    "print( fun4( [3, 1, 2, 0, 4], (1,1,1)) )\n",
    "```\n",
    "\n",
    "`[3, 2.0, 1.0, 2.0, 4]`\n",
    "\n",
    "```python\n",
    "print( fun4( [3, 1, 2, 0, 4], (2,-1,2)) )\n",
    "```\n",
    "\n",
    "`[3, 3.0, 0.0, 4.0, 4]`"
   ]
  },
  {
   "cell_type": "code",
   "execution_count": null,
   "metadata": {
    "deletable": false,
    "nbgrader": {
     "cell_type": "code",
     "checksum": "b0471400d5c225f20d4e90708dd41c8b",
     "grade": true,
     "grade_id": "cell-7142639155546bca",
     "locked": false,
     "points": 1,
     "schema_version": 3,
     "solution": true,
     "task": false
    }
   },
   "outputs": [],
   "source": [
    "import random\n",
    "# YOUR CODE HERE\n",
    "raise NotImplementedError()"
   ]
  },
  {
   "cell_type": "markdown",
   "metadata": {
    "deletable": false,
    "editable": false,
    "nbgrader": {
     "cell_type": "markdown",
     "checksum": "996c1013cfcfd10dacde08b5a24eedff",
     "grade": false,
     "grade_id": "cell-39419891492d3224",
     "locked": true,
     "schema_version": 3,
     "solution": false,
     "task": false
    }
   },
   "source": [
    "## Zadanie 5b\n",
    "\n",
    "Utwórz słownik `imię=>ocena`, zawierający oceny czterech przykładowych osób. Napisz funkcję przyjmującą jako argument słownik, wypisującą listę osób w kolejności alfabetycznej. Napisz funkcję przyjmującą jako argument słownik, wypisującą listę osób wraz z ocenami w dowolnej kolejności."
   ]
  },
  {
   "cell_type": "code",
   "execution_count": null,
   "metadata": {
    "deletable": false,
    "nbgrader": {
     "cell_type": "code",
     "checksum": "9a2d99381a3c274ce54f3a34d3551008",
     "grade": true,
     "grade_id": "cell-5f370758d7396531",
     "locked": false,
     "points": 1,
     "schema_version": 3,
     "solution": true,
     "task": false
    }
   },
   "outputs": [],
   "source": [
    "# YOUR CODE HERE\n",
    "raise NotImplementedError()"
   ]
  },
  {
   "cell_type": "markdown",
   "metadata": {
    "deletable": false,
    "editable": false,
    "nbgrader": {
     "cell_type": "markdown",
     "checksum": "efd2ab2d80ede15091ded88548752fd6",
     "grade": false,
     "grade_id": "cell-dc1f8e9bdf26349e",
     "locked": true,
     "schema_version": 3,
     "solution": false,
     "task": false
    }
   },
   "source": [
    "## Zadanie 6b\n",
    "\n",
    "Utwórz słownik słowników, `imię=>(kategoria=>ocena)`, przechowujący listę osób, oraz ocen z różnych kategorii (`kolokwium 1`, `odpowiedź ustna 2` itp). Napisz funkcję przyjmującą jako argument powyższy słownik, liczącą średnią arytmetyczną wszystkich ocen danej osoby, wypisującą listę osób których średnia ocen jest niższa od 3.0. Napisz funkcję wypisującą średnią ocen wszystkich osób z podanej kategorii (np. średnią ocen wszystkich osób za `python 1` itd.)."
   ]
  },
  {
   "cell_type": "code",
   "execution_count": 149,
   "metadata": {
    "deletable": false,
    "nbgrader": {
     "cell_type": "code",
     "checksum": "575cb30cb71b7d8bf0dcd010263f99f3",
     "grade": true,
     "grade_id": "cell-3f3a0d35738b4a1a",
     "locked": false,
     "points": 1,
     "schema_version": 3,
     "solution": true,
     "task": false
    }
   },
   "outputs": [
    {
     "name": "stdout",
     "output_type": "stream",
     "text": [
      "['Paweł', 'Maria']\n"
     ]
    },
    {
     "data": {
      "text/plain": [
       "3.5"
      ]
     },
     "execution_count": 149,
     "metadata": {},
     "output_type": "execute_result"
    }
   ],
   "source": [
    "dict_rate = {\n",
    "    \"Adam\": { \"kolokwium 1\": 5, \"kolokwium 2\": 4.5,\"lisp 1\" : 5 },\n",
    "    \"Natalia\": { \"kolokwium 1\": 4, \"kolokwium 2\": 3.5, \"lisp 1\" : 2 },\n",
    "    \"Paweł\": { \"kolokwium 1\": 3, \"kolokwium 2\": 2, \"lisp 1\" : 2 },\n",
    "    \"Maria\": { \"kolokwium 1\": 2, \"kolokwium 2\": 2, \"lisp 1\": 3 }\n",
    "}\n",
    "\n",
    "# YOUR CODE HERE\n",
    "# raise NotImplementedError()\n",
    "def fun6_1(dict_rate: dict):\n",
    "    less_than_3 = []\n",
    "    for key, rates in dict_rate.items():\n",
    "        sum = 0\n",
    "        count = 0\n",
    "        for rate in rates.values():\n",
    "            sum += rate\n",
    "            count += 1\n",
    "        mean = sum/count\n",
    "        if mean < 3.0:\n",
    "            less_than_3.append(key)\n",
    "    return less_than_3\n",
    "\n",
    "def fun6_2(dict_rate: dict, category):\n",
    "    sum = 0\n",
    "    count = 0\n",
    "    for key, rates in dict_rate.items():\n",
    "        sum += rates[category]\n",
    "        count += 1\n",
    "    return sum/count\n",
    "\n",
    "print(fun6_1(dict_rate))\n",
    "fun6_2(dict_rate, \"kolokwium 1\")"
   ]
  },
  {
   "cell_type": "markdown",
   "metadata": {
    "deletable": false,
    "editable": false,
    "nbgrader": {
     "cell_type": "markdown",
     "checksum": "a68310121e459eca4adcd3085cfc50b3",
     "grade": false,
     "grade_id": "cell-2e2b3639787acb5e",
     "locked": true,
     "schema_version": 3,
     "solution": false,
     "task": false
    }
   },
   "source": [
    "## Zadanie 7b\n",
    "\n",
    "Utwórz słownik `imię=>wiek`. Napisz funkcję przyjmującą jako argument słownik, zwracającą słownik `imię=>długość snu`, wyliczającą zalecaną dzienną długość snu dla każdej z osób w przesłanym słowniku:\n",
    "\n",
    "- Osoby powyżej 200 roku życia uznawane są za nieumarłych, którzy powinni udać się na sen wieczny,\n",
    "- Osoby z niedodatnim wiekiem powinny zostać pominięte,\n",
    "- Dla pozostałych: \n",
    "\n",
    "$$długość\\ snu={\\frac{8\\ godzin}{log_{10}(wiek\\ w\\ latach)}}$$\n",
    "\n",
    "Powyższy wzór został zmyślony – proszę nie stosować się do niego :).\n",
    "\n",
    "Wykorzystaj mechanizm `dictionary comprehensions` oraz poniższy przykład:\n",
    "```python\n",
    "print(4 if True else 6)  # 4\n",
    "print(5 if False else 6) # 6\n",
    "\n",
    "slownik = {'a': 1, 'b': 2, 'c': 4, 'd': 1234,'e': -3}\n",
    "wynik = {'nowy_' + key: value if value > 0 else -value for key, value in slownik.items() if value < 10 }\n",
    "print(wynik)\n",
    "```\n",
    "`{'nowy_a': 1, 'nowy_b': 2, 'nowy_c': 4, 'nowy_e': 3}`\n",
    "\n",
    "Słownik `slownik` został wykorzystany do utworzenia nowego, którego klucze mają dopisany na początku tekst `nowy_`, złożony z wartości dodatnich ( `value if value > 0 else -value`), mniejszych niż 10 (`if value < 10`)."
   ]
  },
  {
   "cell_type": "code",
   "execution_count": 141,
   "metadata": {
    "deletable": false,
    "nbgrader": {
     "cell_type": "code",
     "checksum": "3b34585f46233a61197178a1a97fb6a9",
     "grade": true,
     "grade_id": "cell-f5e002a98f494d46",
     "locked": false,
     "points": 1,
     "schema_version": 3,
     "solution": true,
     "task": false
    }
   },
   "outputs": [
    {
     "name": "stdout",
     "output_type": "stream",
     "text": [
      "{'Adam': 5.415939940230764, 'Natalia': 'eternity', 'Maria': 5.874889084588445}\n"
     ]
    }
   ],
   "source": [
    "import math\n",
    "dict_age = { \"Adam\": 30,\"Natalia\": 204,\"Paweł\": -2,\"Maria\": 23 }\n",
    "\n",
    "# YOUR CODE HERE\n",
    "#raise NotImplementedError()\n",
    "def fun7(dict_age: dict):\n",
    "    result = {key: (8/math.log10(value)) if value <= 200 else \"eternity\" for key, value in dict_age.items() if value > 0 }\n",
    "    return result\n",
    "\n",
    "print(fun7(dict_age))"
   ]
  },
  {
   "cell_type": "code",
   "execution_count": null,
   "metadata": {},
   "outputs": [],
   "source": []
  },
  {
   "cell_type": "code",
   "execution_count": null,
   "metadata": {},
   "outputs": [],
   "source": []
  },
  {
   "cell_type": "markdown",
   "metadata": {
    "deletable": false,
    "editable": false,
    "nbgrader": {
     "cell_type": "markdown",
     "checksum": "d1cbb5c411ae5af26376a3cedc17e205",
     "grade": false,
     "grade_id": "cell-9db7a9164b84334f",
     "locked": true,
     "schema_version": 3,
     "solution": false,
     "task": false
    }
   },
   "source": [
    "## Zadanie 8b\n",
    "\n",
    "Utwórz tablicę dwuwymiarową wielkości 10 na 10 elementów, wypełnij ją wartościami `False` oraz w losowych 20 miejscach wartościami `True` (upewnij się, że wylosowane pole nie ma wartości `True`). Napisz program pozwalający użytkownikowi wybrać element tablicy (użytkownik ma wpisać dwie liczby całkowite `x`,`y`). Wybrane współrzędne powinny zostać zapisane w pewnym zbiorze (`set`) jako krotka `(x, y)`. Jeśli użytkownik podał drugi raz te same współrzędne, powinna zostać wypisana informacja o tym (np. `\"Już tam strzelano\"`), a program powinien wrócić do wyboru współrzędnych. Jeśli podany element tablicy ma wartość `True`, wypisany powinien zostać tekst `\"Trafiony!\"`, w przeciwnym razie `\"Pudło!\"`. Program ma prosić o podanie współrzędnych do momentu zestrzelenia wszystkich wartości `True`.\n",
    "Aby dodać element do zbioru można wykorzystać operator `|` (pionowa kreska, OR) lub metodę `add`. Jak usunąć element ze zbioru? Jak uzyskać różnicę lub część wspólną (przecięcie, iloczyn) dwóch zbiorów?"
   ]
  },
  {
   "cell_type": "markdown",
   "metadata": {
    "deletable": false,
    "nbgrader": {
     "cell_type": "code",
     "checksum": "6a234c1ab8e61058db7137922da2ac86",
     "grade": true,
     "grade_id": "cell-f10bbe4dd5942cbb",
     "locked": false,
     "points": 1,
     "schema_version": 3,
     "solution": true,
     "task": false
    }
   },
   "source": []
  },
  {
   "cell_type": "code",
   "execution_count": 131,
   "metadata": {},
   "outputs": [
    {
     "name": "stdout",
     "output_type": "stream",
     "text": [
      "Wygrałeś\n"
     ]
    }
   ],
   "source": [
    "# YOUR CODE HERE\n",
    "#raise NotImplementedError()\n",
    "import random\n",
    "size = 10\n",
    "board = [[False for i in range(size)] for j in range(size)]\n",
    "location = set()\n",
    "hit = set()\n",
    "shots = set()\n",
    "\n",
    "i = 0\n",
    "while i < 20:\n",
    "    x = (random.randint(0,size - 1), random.randint(0,size - 1))\n",
    "    # print(i, \" \",location, x)\n",
    "    if x in location:\n",
    "        continue\n",
    "    location.add(x)\n",
    "    board[x[0]][x[1]] = True\n",
    "    i+=1\n",
    "\n",
    "while hit!=location:\n",
    "    t = input(\"Podaj współrzedne x,y: \").split(',')\n",
    "    coordinates = (int(t[0]),int(t[1]))\n",
    "    print(coordinates)\n",
    "    if(coordinates in shots):\n",
    "        print(\"Już tam strzelano\")\n",
    "        continue\n",
    "    else:\n",
    "        shots.add(coordinates)\n",
    "    if(coordinates in location):\n",
    "        print(\"Trafiony!\")\n",
    "        hit.add(coordinates)\n",
    "    else:\n",
    "        print(\"Pudło!\")\n",
    "print('Wygrałeś')\n"
   ]
  },
  {
   "cell_type": "code",
   "execution_count": null,
   "metadata": {},
   "outputs": [],
   "source": []
  },
  {
   "cell_type": "code",
   "execution_count": null,
   "metadata": {},
   "outputs": [],
   "source": []
  },
  {
   "cell_type": "code",
   "execution_count": null,
   "metadata": {},
   "outputs": [],
   "source": []
  },
  {
   "cell_type": "code",
   "execution_count": null,
   "metadata": {},
   "outputs": [],
   "source": []
  },
  {
   "cell_type": "code",
   "execution_count": null,
   "metadata": {},
   "outputs": [],
   "source": []
  },
  {
   "cell_type": "code",
   "execution_count": null,
   "metadata": {},
   "outputs": [],
   "source": []
  },
  {
   "cell_type": "code",
   "execution_count": null,
   "metadata": {},
   "outputs": [],
   "source": []
  },
  {
   "cell_type": "code",
   "execution_count": null,
   "metadata": {},
   "outputs": [],
   "source": []
  },
  {
   "cell_type": "markdown",
   "metadata": {
    "deletable": false,
    "editable": false,
    "nbgrader": {
     "cell_type": "markdown",
     "checksum": "b89497679e5fdb6f08b51808ee3dbe46",
     "grade": false,
     "grade_id": "cell-e22be4ce9286c4d9",
     "locked": true,
     "schema_version": 3,
     "solution": false
    }
   },
   "source": [
    "<div style=\"text-align: right\">&copy; Katedra Informatyki, Politechnika Krakowska </div>"
   ]
  }
 ],
 "metadata": {
  "kernelspec": {
   "display_name": "Python 3",
   "language": "python",
   "name": "python3"
  },
  "language_info": {
   "codemirror_mode": {
    "name": "ipython",
    "version": 3
   },
   "file_extension": ".py",
   "mimetype": "text/x-python",
   "name": "python",
   "nbconvert_exporter": "python",
   "pygments_lexer": "ipython3",
   "version": "3.8.8"
  }
 },
 "nbformat": 4,
 "nbformat_minor": 2
}
